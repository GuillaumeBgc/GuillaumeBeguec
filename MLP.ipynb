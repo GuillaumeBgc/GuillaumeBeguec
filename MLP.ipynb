{
  "cells": [
    {
      "cell_type": "markdown",
      "metadata": {
        "cell_id": "00000-4e5bf590-09bc-42f5-a318-08994a30bfd4",
        "deepnote_cell_type": "markdown",
        "id": "NjCKi8REqlN6"
      },
      "source": [
        "# Multi-Layer Perceptron in `keras`\n",
        "\n",
        "In this series of lab sessions, you will use a Python library called `keras` (that is in fact embedded inside a larger library called `tensorflow`, but we will not discuss `tensorflow` in this course).\n",
        "You should visit [`keras` webpage](https://www.tensorflow.org/guide/keras/overview) to get access to more information about this library, including a comprehensive documentation.\n",
        "\n",
        "## The `Sequential` model in `keras`\n",
        "\n",
        "This library offers two ways to define neural network models. \n",
        "We will start with the `Sequential` class of `keras` models.\n",
        "Below is an example of how to define a `Sequential` model:"
      ]
    },
    {
      "cell_type": "code",
      "execution_count": 3,
      "metadata": {
        "cell_id": "00001-e7a9d101-f83a-49f2-ae43-deb55009fadf",
        "deepnote_cell_type": "code",
        "deepnote_to_be_reexecuted": false,
        "execution_millis": 1216,
        "execution_start": 1613342071585,
        "id": "PRKkYealqiiG",
        "output_cleared": false,
        "source_hash": "b851176a"
      },
      "outputs": [],
      "source": [
        "from tensorflow.keras.models import Sequential\n",
        "from tensorflow.keras.layers import Dense, InputLayer"
      ]
    },
    {
      "cell_type": "markdown",
      "metadata": {
        "cell_id": "00002-fddb7023-3fe5-422a-ab01-7974d23883a6",
        "deepnote_cell_type": "markdown",
        "id": "1UdkphfnspbR"
      },
      "source": [
        "**1. Define layers, and add them one by one to the model**\n"
      ]
    },
    {
      "cell_type": "code",
      "execution_count": 4,
      "metadata": {
        "cell_id": "00003-3e192e55-740f-4e3e-9969-016701af86a1",
        "deepnote_cell_type": "code",
        "deepnote_to_be_reexecuted": false,
        "execution_millis": 57,
        "execution_start": 1613342072806,
        "id": "JD54PuqWsp4Y",
        "source_hash": "e4cce2c1"
      },
      "outputs": [],
      "source": [
        "input_layer = InputLayer(input_shape=(24,))\n",
        "hidden_layer1 = Dense(units=12, activation=\"relu\")\n",
        "hidden_layer2 = Dense(units=12, activation=\"sigmoid\")\n",
        "#[...]\n",
        "output_layer = Dense(units=3, activation=\"linear\")\n",
        "\n",
        "model = Sequential([\n",
        "    input_layer,\n",
        "    hidden_layer1,\n",
        "    hidden_layer2,\n",
        "    # ...\n",
        "    output_layer\n",
        "])"
      ]
    },
    {
      "cell_type": "markdown",
      "metadata": {
        "cell_id": "00004-607dbfcd-c789-4071-98bf-f51e230e647f",
        "deepnote_cell_type": "markdown",
        "id": "FTQLjyUoszDq"
      },
      "source": [
        "**2. Pick an optimization algorithm (optimizer) and a loss function to be optimized**\n",
        "\n",
        "Usual loss functions are:\n",
        "* `\"mse\"` for regression,\n",
        "* `\"categorical_crossentropy\"` for multiclass classification (when the `y` array fed to `fit` is of shape $(n, n_\\text{classes})$)\n",
        "* `\"binary_crossentropy\"` for binary classification (when the model is fed with `y` array of shape $(n, 1)$)\n",
        "\n",
        "One can also specify additional metrics to be printed during training (correct classification rate here)."
      ]
    },
    {
      "cell_type": "code",
      "execution_count": 4,
      "metadata": {
        "cell_id": "00005-29ab32a8-52eb-40c1-9c63-1e8b8943cbdd",
        "deepnote_cell_type": "code",
        "deepnote_to_be_reexecuted": false,
        "execution_millis": 9,
        "execution_start": 1613342072870,
        "id": "A_21M9Jqs3eJ",
        "source_hash": "63a93405"
      },
      "outputs": [],
      "source": [
        "model.compile(optimizer=\"sgd\", loss=\"categorical_crossentropy\", metrics=[\"accuracy\"])"
      ]
    },
    {
      "cell_type": "markdown",
      "metadata": {
        "cell_id": "00006-1084a597-d5d5-4e2e-96ba-bf42d51d64c7",
        "deepnote_cell_type": "markdown",
        "id": "ykI4bexvs5x-"
      },
      "source": [
        "**3. Fit the model**\n",
        "\n",
        "NB: do not try to execute the following line of code: variables `X_train` and `y_train` do not exist yet!"
      ]
    },
    {
      "cell_type": "code",
      "execution_count": null,
      "metadata": {
        "cell_id": "00007-8516017c-c628-4ef3-ac0f-d80ca5f74a93",
        "deepnote_cell_type": "code",
        "deepnote_to_be_reexecuted": false,
        "execution_millis": 2,
        "execution_start": 1613342072879,
        "id": "rt89yAdWs688",
        "source_hash": "fd94a07d"
      },
      "outputs": [],
      "source": [
        "#model.fit(X_train, y_train, verbose=2, epochs=10, batch_size=200)"
      ]
    },
    {
      "cell_type": "markdown",
      "metadata": {
        "cell_id": "00008-79f8d9f3-2a42-42bb-8bcc-fc2f1f47eecd",
        "deepnote_cell_type": "markdown",
        "id": "nHhJosslvDRY"
      },
      "source": [
        "## Data pre-processing\n",
        "\n",
        "Have a look at the `prepare_mnist` and `prepare_boston` functions defined below.\n",
        "\n",
        "**Question #1.** What do these functions do? What are the shapes of returned arrays? Does the returned data correpond to classification or regression problems?"
      ]
    },
    {
      "cell_type": "code",
      "execution_count": 5,
      "metadata": {
        "cell_id": "00009-c7c58fdf-b6f1-4f92-b82b-8ade1f4f44ca",
        "deepnote_cell_type": "code",
        "deepnote_to_be_reexecuted": false,
        "execution_millis": 1636,
        "execution_start": 1613342072885,
        "id": "7l-s71YRwTRA",
        "output_cleared": false,
        "source_hash": "1615ed07"
      },
      "outputs": [],
      "source": [
        "from sklearn.preprocessing import MinMaxScaler\n",
        "from tensorflow.keras.datasets import mnist, boston_housing\n",
        "from tensorflow.keras.utils import to_categorical\n",
        "\n",
        "def prepare_mnist():\n",
        "    (x_train, y_train), (x_test, y_test) = mnist.load_data()\n",
        "    x_train = x_train.reshape((x_train.shape[0], -1))\n",
        "    x_test = x_test.reshape((x_test.shape[0], -1))\n",
        "    scaler = MinMaxScaler()\n",
        "    scaler.fit(x_train)\n",
        "    x_train = scaler.transform(x_train)\n",
        "    x_test = scaler.transform(x_test)\n",
        "    y_train = to_categorical(y_train)\n",
        "    y_test = to_categorical(y_test)\n",
        "    return x_train, x_test, y_train, y_test\n",
        "\n",
        "\n",
        "def prepare_boston():\n",
        "    (x_train, y_train), (x_test, y_test) = boston_housing.load_data()\n",
        "    scaler_x = MinMaxScaler()\n",
        "    scaler_x.fit(x_train)\n",
        "    x_train = scaler_x.transform(x_train)\n",
        "    x_test = scaler_x.transform(x_test)\n",
        "    scaler_y = MinMaxScaler()\n",
        "    scaler_y.fit(y_train.reshape((-1, 1)))\n",
        "    y_train = scaler_y.transform(y_train.reshape((-1, 1)))\n",
        "    y_test = scaler_y.transform(y_test.reshape((-1, 1)))\n",
        "    return x_train, x_test, y_train, y_test\n",
        "  \n",
        "x_train, x_test, y_train, y_test = prepare_mnist()"
      ]
    },
    {
      "cell_type": "code",
      "execution_count": 6,
      "metadata": {
        "cell_id": "00010-3c1481af-a4d7-424b-a59e-3a2745234530",
        "deepnote_cell_type": "code",
        "deepnote_to_be_reexecuted": false,
        "execution_millis": 64,
        "execution_start": 1613342074525,
        "id": "CGlUHH6KFpj3",
        "output_cleared": false,
        "source_hash": "7facd6d8",
        "colab": {
          "base_uri": "https://localhost:8080/"
        },
        "outputId": "07967ba7-b04f-4e45-d9d8-3b5a55263a31"
      },
      "outputs": [
        {
          "output_type": "stream",
          "name": "stdout",
          "text": [
            "Downloading data from https://storage.googleapis.com/tensorflow/tf-keras-datasets/boston_housing.npz\n",
            "57026/57026 [==============================] - 0s 0us/step\n"
          ]
        }
      ],
      "source": [
        "x_train, x_test, y_train, y_test = prepare_boston()"
      ]
    },
    {
      "cell_type": "code",
      "source": [],
      "metadata": {
        "id": "t5QRqTnwD5A4"
      },
      "execution_count": 5,
      "outputs": []
    },
    {
      "cell_type": "markdown",
      "metadata": {
        "cell_id": "00011-1ecdf9c5-01c3-4a0d-a9c6-cfd28e6be23d",
        "deepnote_cell_type": "markdown",
        "id": "VRA_Ec2-yIGA"
      },
      "source": [
        "## Building your first models\n",
        "\n",
        "In the following, when fitting models, restrict the training to 10 epochs (which is not realistic, but training for more epochs takes time...)\n",
        "\n",
        "**Question #2.** Following the guidelines provided above, implement a linear regression model for the `boston` dataset that would optimize on a least squares objective using Stochastic Gradient Descent and fit your model to the corresponding training data."
      ]
    },
    {
      "cell_type": "code",
      "execution_count": 7,
      "metadata": {
        "cell_id": "00013-2e740cd6-9a8b-4a74-b85f-c7a66127d510",
        "deepnote_cell_type": "code",
        "deepnote_to_be_reexecuted": false,
        "execution_millis": 1,
        "execution_start": 1613342074582,
        "output_cleared": true,
        "source_hash": "b623e53d",
        "tags": [],
        "colab": {
          "base_uri": "https://localhost:8080/"
        },
        "id": "WNZvhzoL93v1",
        "outputId": "5f4b6645-0fe7-4757-852d-4d608dda9382"
      },
      "outputs": [
        {
          "output_type": "stream",
          "name": "stdout",
          "text": [
            "Epoch 1/10\n",
            "5/5 - 0s - loss: 1.0535 - mse: 1.0535 - 338ms/epoch - 68ms/step\n",
            "Epoch 2/10\n",
            "5/5 - 0s - loss: 0.6527 - mse: 0.6527 - 15ms/epoch - 3ms/step\n",
            "Epoch 3/10\n",
            "5/5 - 0s - loss: 0.4476 - mse: 0.4476 - 15ms/epoch - 3ms/step\n",
            "Epoch 4/10\n",
            "5/5 - 0s - loss: 0.3381 - mse: 0.3381 - 12ms/epoch - 2ms/step\n",
            "Epoch 5/10\n",
            "5/5 - 0s - loss: 0.2720 - mse: 0.2720 - 14ms/epoch - 3ms/step\n",
            "Epoch 6/10\n",
            "5/5 - 0s - loss: 0.2389 - mse: 0.2389 - 13ms/epoch - 3ms/step\n",
            "Epoch 7/10\n",
            "5/5 - 0s - loss: 0.2196 - mse: 0.2196 - 13ms/epoch - 3ms/step\n",
            "Epoch 8/10\n",
            "5/5 - 0s - loss: 0.2077 - mse: 0.2077 - 23ms/epoch - 5ms/step\n",
            "Epoch 9/10\n",
            "5/5 - 0s - loss: 0.1944 - mse: 0.1944 - 12ms/epoch - 2ms/step\n",
            "Epoch 10/10\n",
            "5/5 - 0s - loss: 0.1819 - mse: 0.1819 - 11ms/epoch - 2ms/step\n",
            "{'loss': [1.0535176992416382, 0.6526951789855957, 0.447640061378479, 0.3381173610687256, 0.27201277017593384, 0.2388678640127182, 0.2195993810892105, 0.2077181190252304, 0.1943856179714203, 0.18186800181865692], 'mse': [1.0535176992416382, 0.6526951789855957, 0.447640061378479, 0.3381173610687256, 0.27201277017593384, 0.2388678640127182, 0.2195993810892105, 0.2077181190252304, 0.1943856179714203, 0.18186800181865692]}\n"
          ]
        }
      ],
      "source": [
        "import numpy as np\n",
        "dimX = np.shape(x_train)[1]\n",
        "\n",
        "input_layer = InputLayer(input_shape=(dimX,))\n",
        "output_layer = Dense(units=1, activation=\"linear\")\n",
        "\n",
        "model = Sequential([\n",
        "    input_layer,\n",
        "    output_layer\n",
        "])\n",
        "\n",
        "model.compile(optimizer=\"sgd\", loss=\"mse\", metrics=[\"mse\"])\n",
        "\n",
        "h=model.fit(x_train, y_train, verbose=2, epochs=10, batch_size=100)\n",
        "print(h.history)"
      ]
    },
    {
      "cell_type": "markdown",
      "metadata": {
        "cell_id": "00015-c40decce-b6c2-4f3e-af55-6dc6b2eb29cd",
        "deepnote_cell_type": "markdown",
        "id": "Gqt1yH9Gzfuh"
      },
      "source": [
        "**Question #3.** Similarly, define a logistic regression model for the `mnist` dataset and print its training accuracy during training."
      ]
    },
    {
      "cell_type": "code",
      "source": [
        "x_train, x_test, y_train, y_test = prepare_mnist()"
      ],
      "metadata": {
        "id": "KDjkNmLzDj2A"
      },
      "execution_count": 8,
      "outputs": []
    },
    {
      "cell_type": "code",
      "execution_count": 9,
      "metadata": {
        "cell_id": "00014-fa195760-a859-4672-bd64-7911ece3c703",
        "deepnote_cell_type": "code",
        "tags": [],
        "colab": {
          "base_uri": "https://localhost:8080/",
          "height": 629
        },
        "id": "5gCInUmY93v2",
        "outputId": "6265f9fc-93cc-41f5-9051-5787947a83de"
      },
      "outputs": [
        {
          "output_type": "stream",
          "name": "stdout",
          "text": [
            "10\n",
            "Epoch 1/10\n",
            "300/300 - 1s - loss: 1.4906 - accuracy: 0.6269 - 1s/epoch - 3ms/step\n",
            "Epoch 2/10\n",
            "300/300 - 1s - loss: 0.8683 - accuracy: 0.8188 - 779ms/epoch - 3ms/step\n",
            "Epoch 3/10\n",
            "300/300 - 1s - loss: 0.6938 - accuracy: 0.8448 - 743ms/epoch - 2ms/step\n",
            "Epoch 4/10\n",
            "300/300 - 1s - loss: 0.6097 - accuracy: 0.8563 - 756ms/epoch - 3ms/step\n",
            "Epoch 5/10\n",
            "300/300 - 1s - loss: 0.5588 - accuracy: 0.8642 - 751ms/epoch - 3ms/step\n",
            "Epoch 6/10\n",
            "300/300 - 1s - loss: 0.5240 - accuracy: 0.8698 - 768ms/epoch - 3ms/step\n",
            "Epoch 7/10\n",
            "300/300 - 1s - loss: 0.4985 - accuracy: 0.8739 - 745ms/epoch - 2ms/step\n",
            "Epoch 8/10\n",
            "300/300 - 1s - loss: 0.4789 - accuracy: 0.8771 - 744ms/epoch - 2ms/step\n",
            "Epoch 9/10\n",
            "300/300 - 1s - loss: 0.4630 - accuracy: 0.8801 - 764ms/epoch - 3ms/step\n",
            "Epoch 10/10\n",
            "300/300 - 1s - loss: 0.4500 - accuracy: 0.8825 - 768ms/epoch - 3ms/step\n"
          ]
        },
        {
          "output_type": "display_data",
          "data": {
            "text/plain": [
              "<Figure size 432x288 with 1 Axes>"
            ],
            "image/png": "[encoded data removed]"
          },
          "metadata": {
            "needs_background": "light"
          }
        }
      ],
      "source": [
        "dimX = np.shape(x_train)[1]\n",
        "dimY = np.shape(y_train)[1]\n",
        "print(dimY)\n",
        "input_layer = InputLayer(input_shape=(dimX,))\n",
        "output_layer = Dense(units=dimY, activation=\"softmax\")\n",
        "\n",
        "model = Sequential([\n",
        "    input_layer,\n",
        "    output_layer\n",
        "])\n",
        "\n",
        "model.compile(optimizer=\"sgd\", loss=\"categorical_crossentropy\", metrics=[\"accuracy\"])\n",
        "\n",
        "import matplotlib.pyplot as plt\n",
        "h=model.fit(x_train, y_train, verbose=2, epochs=10, batch_size=200)\n",
        "\n",
        "plt.plot(h.history[\"accuracy\"])\n",
        "plt.show()"
      ]
    },
    {
      "cell_type": "markdown",
      "metadata": {
        "cell_id": "00018-cfad4bc9-a1de-43a4-bb43-d74840d9869d",
        "deepnote_cell_type": "markdown",
        "id": "6SGA-CdS0vwW"
      },
      "source": [
        "**Question #4.** Compare performance (in terms of training accuracy, we will come back to better ways to compare models afterwards) of this logistic regression model with that of a neural network with respectively 1, 2, and 3 hidden layers of 128 neurons each.\n",
        "You will use the `\"relu\"` activation function for hidden layers."
      ]
    },
    {
      "cell_type": "code",
      "execution_count": 12,
      "metadata": {
        "cell_id": "00016-667b31d2-ee2e-4a34-9a88-33c19a38522a",
        "deepnote_cell_type": "code",
        "deepnote_to_be_reexecuted": true,
        "source_hash": "b623e53d",
        "tags": [],
        "colab": {
          "base_uri": "https://localhost:8080/"
        },
        "id": "-wvYC2vc93v2",
        "outputId": "4a4d95df-4401-4cfa-f155-97c3c7c59cc0"
      },
      "outputs": [
        {
          "output_type": "stream",
          "name": "stdout",
          "text": [
            "------------- Model 1 ----------------\n",
            "Epoch 1/10\n",
            "300/300 - 2s - loss: 1.4340 - accuracy: 0.6372 - 2s/epoch - 5ms/step\n",
            "Epoch 2/10\n",
            "300/300 - 1s - loss: 0.7151 - accuracy: 0.8336 - 1s/epoch - 4ms/step\n",
            "Epoch 3/10\n",
            "300/300 - 1s - loss: 0.5412 - accuracy: 0.8634 - 1s/epoch - 4ms/step\n",
            "Epoch 4/10\n",
            "300/300 - 1s - loss: 0.4665 - accuracy: 0.8774 - 1s/epoch - 4ms/step\n",
            "Epoch 5/10\n",
            "300/300 - 1s - loss: 0.4236 - accuracy: 0.8856 - 1s/epoch - 4ms/step\n",
            "Epoch 6/10\n",
            "300/300 - 1s - loss: 0.3949 - accuracy: 0.8932 - 1s/epoch - 4ms/step\n",
            "Epoch 7/10\n",
            "300/300 - 1s - loss: 0.3741 - accuracy: 0.8981 - 1s/epoch - 4ms/step\n",
            "Epoch 8/10\n",
            "300/300 - 1s - loss: 0.3579 - accuracy: 0.9022 - 1s/epoch - 4ms/step\n",
            "Epoch 9/10\n",
            "300/300 - 1s - loss: 0.3446 - accuracy: 0.9052 - 1s/epoch - 4ms/step\n",
            "Epoch 10/10\n",
            "300/300 - 1s - loss: 0.3336 - accuracy: 0.9079 - 1s/epoch - 4ms/step\n",
            "------------- Model 2 ----------------\n",
            "Epoch 1/10\n",
            "300/300 - 2s - loss: 1.5657 - accuracy: 0.5954 - 2s/epoch - 7ms/step\n",
            "Epoch 2/10\n",
            "300/300 - 2s - loss: 0.6654 - accuracy: 0.8446 - 2s/epoch - 5ms/step\n",
            "Epoch 3/10\n",
            "300/300 - 1s - loss: 0.4707 - accuracy: 0.8768 - 1s/epoch - 5ms/step\n",
            "Epoch 4/10\n",
            "300/300 - 1s - loss: 0.4005 - accuracy: 0.8897 - 1s/epoch - 5ms/step\n",
            "Epoch 5/10\n",
            "300/300 - 1s - loss: 0.3622 - accuracy: 0.8977 - 1s/epoch - 5ms/step\n",
            "Epoch 6/10\n",
            "300/300 - 1s - loss: 0.3367 - accuracy: 0.9037 - 1s/epoch - 5ms/step\n",
            "Epoch 7/10\n",
            "300/300 - 1s - loss: 0.3177 - accuracy: 0.9082 - 1s/epoch - 5ms/step\n",
            "Epoch 8/10\n",
            "300/300 - 1s - loss: 0.3023 - accuracy: 0.9130 - 1s/epoch - 5ms/step\n",
            "Epoch 9/10\n",
            "300/300 - 1s - loss: 0.2897 - accuracy: 0.9162 - 1s/epoch - 5ms/step\n",
            "Epoch 10/10\n",
            "300/300 - 1s - loss: 0.2786 - accuracy: 0.9204 - 1s/epoch - 5ms/step\n",
            "------------- Model 3 ----------------\n",
            "Epoch 1/10\n",
            "300/300 - 2s - loss: 1.7228 - accuracy: 0.5437 - 2s/epoch - 7ms/step\n",
            "Epoch 2/10\n",
            "300/300 - 2s - loss: 0.6785 - accuracy: 0.8313 - 2s/epoch - 6ms/step\n",
            "Epoch 3/10\n",
            "300/300 - 2s - loss: 0.4537 - accuracy: 0.8769 - 2s/epoch - 5ms/step\n",
            "Epoch 4/10\n",
            "300/300 - 2s - loss: 0.3831 - accuracy: 0.8928 - 2s/epoch - 6ms/step\n",
            "Epoch 5/10\n",
            "300/300 - 2s - loss: 0.3459 - accuracy: 0.9018 - 2s/epoch - 5ms/step\n",
            "Epoch 6/10\n",
            "300/300 - 2s - loss: 0.3209 - accuracy: 0.9079 - 2s/epoch - 6ms/step\n",
            "Epoch 7/10\n",
            "300/300 - 2s - loss: 0.3019 - accuracy: 0.9126 - 2s/epoch - 6ms/step\n",
            "Epoch 8/10\n",
            "300/300 - 2s - loss: 0.2863 - accuracy: 0.9175 - 2s/epoch - 6ms/step\n",
            "Epoch 9/10\n",
            "300/300 - 2s - loss: 0.2732 - accuracy: 0.9208 - 2s/epoch - 6ms/step\n",
            "Epoch 10/10\n",
            "300/300 - 2s - loss: 0.2616 - accuracy: 0.9245 - 2s/epoch - 5ms/step\n"
          ]
        },
        {
          "output_type": "execute_result",
          "data": {
            "text/plain": [
              "<keras.callbacks.History at 0x7f6d2d988cd0>"
            ]
          },
          "metadata": {},
          "execution_count": 12
        }
      ],
      "source": [
        "input_layer = InputLayer(input_shape=(dimX,))\n",
        "output_layer = Dense(units=dimY, activation=\"softmax\")\n",
        "hidden_layer1 = Dense(units=128, activation=\"relu\")\n",
        "hidden_layer2 = Dense(units=128, activation=\"relu\")\n",
        "hidden_layer3 = Dense(units=128, activation=\"relu\")\n",
        "\n",
        "model1 = Sequential([\n",
        "    InputLayer(input_shape=(dimX,)),\n",
        "    Dense(units=128, activation=\"relu\"),\n",
        "    Dense(units=dimY, activation=\"softmax\")\n",
        "])\n",
        "model1.compile(optimizer=\"sgd\", loss=\"categorical_crossentropy\", metrics=[\"accuracy\"])\n",
        "\n",
        "print(\"------------- Model 1 ----------------\")\n",
        "model1.fit(x_train, y_train, verbose=2, epochs=10, batch_size=200)\n",
        "\n",
        "model2 = Sequential([\n",
        "    InputLayer(input_shape=(dimX,)),\n",
        "    Dense(units=128, activation=\"relu\"),\n",
        "    Dense(units=128, activation=\"relu\"),\n",
        "    Dense(units=dimY, activation=\"softmax\")\n",
        "])\n",
        "model2.compile(optimizer=\"sgd\", loss=\"categorical_crossentropy\", metrics=[\"accuracy\"])\n",
        "print(\"------------- Model 2 ----------------\")\n",
        "\n",
        "model2.fit(x_train, y_train, verbose=2, epochs=10, batch_size=200)\n",
        "\n",
        "model3 = Sequential([\n",
        "    InputLayer(input_shape=(dimX,)),\n",
        "    Dense(units=128, activation=\"relu\"),\n",
        "    Dense(units=128, activation=\"relu\"),\n",
        "    Dense(units=128, activation=\"relu\"),\n",
        "    Dense(units=dimY, activation=\"softmax\")\n",
        "\n",
        "])\n",
        "model3.compile(optimizer=\"sgd\", loss=\"categorical_crossentropy\", metrics=[\"accuracy\"])\n",
        "print(\"------------- Model 3 ----------------\")\n",
        "\n",
        "model3.fit(x_train, y_train, verbose=2, epochs=10, batch_size=200)"
      ]
    },
    {
      "cell_type": "markdown",
      "metadata": {
        "cell_id": "00020-a024cc10-c7b4-4021-89d9-0ed7447b2b9e",
        "deepnote_cell_type": "markdown",
        "id": "tC9EB0vs363m"
      },
      "source": [
        "**Question #5.** `keras` models offer a `count_params()` method to get the number of parameters to be learned in the model. Use this facility to get the number of parameters of your 3-hidden-layer model and build a new one-hidden-layer model with an equivalent number of parameters. Compare performance of these two models with similar number of parameters."
      ]
    },
    {
      "cell_type": "code",
      "execution_count": 13,
      "metadata": {
        "cell_id": "00018-d3f7b59d-095f-43d8-903e-2b92eb43619f",
        "deepnote_cell_type": "code",
        "deepnote_to_be_reexecuted": true,
        "source_hash": "b623e53d",
        "tags": [],
        "colab": {
          "base_uri": "https://localhost:8080/"
        },
        "id": "3khNym-m93v3",
        "outputId": "9e0ba41c-ec61-4bcf-a642-fb20af68c273"
      },
      "outputs": [
        {
          "output_type": "stream",
          "name": "stdout",
          "text": [
            "101770\n",
            "118282\n"
          ]
        },
        {
          "output_type": "execute_result",
          "data": {
            "text/plain": [
              "134794"
            ]
          },
          "metadata": {},
          "execution_count": 13
        }
      ],
      "source": [
        "print(model1.count_params())\n",
        "print(model2.count_params())\n",
        "model3.count_params()"
      ]
    },
    {
      "cell_type": "code",
      "source": [
        "model3.summary()"
      ],
      "metadata": {
        "colab": {
          "base_uri": "https://localhost:8080/"
        },
        "id": "KivT4aTd6Evt",
        "outputId": "f08ae205-255f-4975-f776-afa007603029"
      },
      "execution_count": 16,
      "outputs": [
        {
          "output_type": "stream",
          "name": "stdout",
          "text": [
            "Model: \"sequential_9\"\n",
            "_________________________________________________________________\n",
            " Layer (type)                Output Shape              Param #   \n",
            "=================================================================\n",
            " dense_20 (Dense)            (None, 128)               100480    \n",
            "                                                                 \n",
            " dense_21 (Dense)            (None, 128)               16512     \n",
            "                                                                 \n",
            " dense_22 (Dense)            (None, 128)               16512     \n",
            "                                                                 \n",
            " dense_23 (Dense)            (None, 10)                1290      \n",
            "                                                                 \n",
            "=================================================================\n",
            "Total params: 134,794\n",
            "Trainable params: 134,794\n",
            "Non-trainable params: 0\n",
            "_________________________________________________________________\n"
          ]
        }
      ]
    },
    {
      "cell_type": "markdown",
      "metadata": {
        "cell_id": "00024-1bdd65e7-515d-4064-882a-54c651abfd3d",
        "deepnote_cell_type": "markdown",
        "id": "iXxTGmUw5ppd"
      },
      "source": [
        "## A better way to compare models\n",
        "\n",
        "Comparing models based on training accuracy (resp. loss) is a \"great\" way to overfit your model to the training data.\n",
        "A better way to compare models is to use hold out data (aka validation set).\n",
        "\n",
        "To do so, `keras` allows to pass, at `fit` time, a fraction of the training data to be used as validation set. Have a look [there](https://www.tensorflow.org/guide/keras/train_and_evaluate#automatically_setting_apart_a_validation_holdout_set) for more details about how validation samples are selected.\n",
        "\n",
        "**Question #6.** Repeat model comparisons above (relying on validation scores) using 30% of training data as validation set."
      ]
    },
    {
      "cell_type": "code",
      "source": [
        "model3_bis = Sequential([\n",
        "    InputLayer(input_shape=x_train.shape[1:]),\n",
        "    Dense(units=128, activation=\"relu\"),\n",
        "    Dense(units=128, activation=\"relu\"),\n",
        "    Dense(units=128, activation=\"relu\"),\n",
        "    Dense(units=y_train.shape[1], activation=\"softmax\")\n",
        "])\n",
        "print(\"------------- Model 3 ----------------\")\n",
        "\n",
        "model3_bis.compile(loss=\"categorical_crossentropy\", optimizer=\"sgd\", metrics=[\"accuracy\"])\n",
        "model3_bis.fit(x_train, y_train, epochs=10, batch_size=100, verbose=2, validation_split=0.3)\n",
        "\n",
        "print(\"------------- Model 1 ----------------\")\n",
        "model1_bis = Sequential([\n",
        "    InputLayer(input_shape=x_train.shape[1:]),\n",
        "    Dense(units=128, activation=\"relu\"),\n",
        "    Dense(units=y_train.shape[1], activation=\"softmax\")\n",
        "])\n",
        "model1_bis.compile(loss=\"categorical_crossentropy\", optimizer=\"sgd\", metrics=[\"accuracy\"])\n",
        "model1_bis.fit(x_train, y_train, epochs=10, batch_size=100, verbose=2, validation_split=0.3)"
      ],
      "metadata": {
        "colab": {
          "base_uri": "https://localhost:8080/"
        },
        "id": "AZ-bypv2CEBj",
        "outputId": "7898d3b6-62a7-4f5f-e5f1-d66872772467"
      },
      "execution_count": 20,
      "outputs": [
        {
          "output_type": "stream",
          "name": "stdout",
          "text": [
            "------------- Model 3 ----------------\n",
            "Epoch 1/10\n",
            "420/420 - 3s - loss: 1.5195 - accuracy: 0.5800 - val_loss: 0.7003 - val_accuracy: 0.8264 - 3s/epoch - 7ms/step\n",
            "Epoch 2/10\n",
            "420/420 - 2s - loss: 0.5338 - accuracy: 0.8579 - val_loss: 0.4184 - val_accuracy: 0.8833 - 2s/epoch - 5ms/step\n",
            "Epoch 3/10\n",
            "420/420 - 2s - loss: 0.3870 - accuracy: 0.8915 - val_loss: 0.3489 - val_accuracy: 0.9004 - 2s/epoch - 5ms/step\n",
            "Epoch 4/10\n",
            "420/420 - 3s - loss: 0.3348 - accuracy: 0.9046 - val_loss: 0.3131 - val_accuracy: 0.9087 - 3s/epoch - 7ms/step\n",
            "Epoch 5/10\n",
            "420/420 - 3s - loss: 0.3034 - accuracy: 0.9137 - val_loss: 0.2907 - val_accuracy: 0.9151 - 3s/epoch - 6ms/step\n",
            "Epoch 6/10\n",
            "420/420 - 2s - loss: 0.2801 - accuracy: 0.9205 - val_loss: 0.2718 - val_accuracy: 0.9202 - 2s/epoch - 5ms/step\n",
            "Epoch 7/10\n",
            "420/420 - 2s - loss: 0.2610 - accuracy: 0.9253 - val_loss: 0.2579 - val_accuracy: 0.9259 - 2s/epoch - 5ms/step\n",
            "Epoch 8/10\n",
            "420/420 - 2s - loss: 0.2446 - accuracy: 0.9296 - val_loss: 0.2457 - val_accuracy: 0.9285 - 2s/epoch - 5ms/step\n",
            "Epoch 9/10\n",
            "420/420 - 2s - loss: 0.2297 - accuracy: 0.9340 - val_loss: 0.2338 - val_accuracy: 0.9329 - 2s/epoch - 5ms/step\n",
            "Epoch 10/10\n",
            "420/420 - 2s - loss: 0.2171 - accuracy: 0.9372 - val_loss: 0.2236 - val_accuracy: 0.9360 - 2s/epoch - 5ms/step\n",
            "------------- Model 1 ----------------\n",
            "Epoch 1/10\n",
            "420/420 - 2s - loss: 1.2669 - accuracy: 0.6995 - val_loss: 0.7125 - val_accuracy: 0.8438 - 2s/epoch - 6ms/step\n",
            "Epoch 2/10\n",
            "420/420 - 2s - loss: 0.5974 - accuracy: 0.8572 - val_loss: 0.4942 - val_accuracy: 0.8748 - 2s/epoch - 4ms/step\n",
            "Epoch 3/10\n",
            "420/420 - 2s - loss: 0.4675 - accuracy: 0.8794 - val_loss: 0.4224 - val_accuracy: 0.8865 - 2s/epoch - 4ms/step\n",
            "Epoch 4/10\n",
            "420/420 - 2s - loss: 0.4114 - accuracy: 0.8905 - val_loss: 0.3830 - val_accuracy: 0.8958 - 2s/epoch - 4ms/step\n",
            "Epoch 5/10\n",
            "420/420 - 2s - loss: 0.3779 - accuracy: 0.8977 - val_loss: 0.3593 - val_accuracy: 0.9006 - 2s/epoch - 4ms/step\n",
            "Epoch 6/10\n",
            "420/420 - 2s - loss: 0.3551 - accuracy: 0.9025 - val_loss: 0.3425 - val_accuracy: 0.9049 - 2s/epoch - 4ms/step\n",
            "Epoch 7/10\n",
            "420/420 - 2s - loss: 0.3376 - accuracy: 0.9065 - val_loss: 0.3285 - val_accuracy: 0.9078 - 2s/epoch - 4ms/step\n",
            "Epoch 8/10\n",
            "420/420 - 2s - loss: 0.3236 - accuracy: 0.9103 - val_loss: 0.3175 - val_accuracy: 0.9113 - 2s/epoch - 4ms/step\n",
            "Epoch 9/10\n",
            "420/420 - 2s - loss: 0.3119 - accuracy: 0.9134 - val_loss: 0.3076 - val_accuracy: 0.9138 - 2s/epoch - 4ms/step\n",
            "Epoch 10/10\n",
            "420/420 - 2s - loss: 0.3016 - accuracy: 0.9161 - val_loss: 0.2999 - val_accuracy: 0.9168 - 2s/epoch - 4ms/step\n"
          ]
        },
        {
          "output_type": "execute_result",
          "data": {
            "text/plain": [
              "<keras.callbacks.History at 0x7f6d26ad4d10>"
            ]
          },
          "metadata": {},
          "execution_count": 20
        }
      ]
    },
    {
      "cell_type": "markdown",
      "metadata": {
        "cell_id": "00026-77f877a8-a870-4358-a389-6435fd380c88",
        "deepnote_cell_type": "markdown",
        "id": "WehjG92yDMcN"
      },
      "source": [
        "## Optimizers and learning rate\n",
        "\n",
        "**Question #7.** Change the optimizer used for your model. Use an optimizer with momentum and adaptive learning rate."
      ]
    },
    {
      "cell_type": "code",
      "execution_count": 21,
      "metadata": {
        "cell_id": "00021-8889ee1e-48b4-4783-b8e9-fb42783d8d39",
        "deepnote_cell_type": "code",
        "deepnote_to_be_reexecuted": true,
        "source_hash": "b623e53d",
        "tags": [],
        "id": "kOHeYSFC93v4",
        "colab": {
          "base_uri": "https://localhost:8080/"
        },
        "outputId": "4efb3547-6954-45b4-bcaa-838f48baf346"
      },
      "outputs": [
        {
          "output_type": "stream",
          "name": "stdout",
          "text": [
            "------------- Model 3 ----------------\n",
            "Epoch 1/10\n",
            "420/420 - 3s - loss: 0.3338 - accuracy: 0.9029 - val_loss: 0.1674 - val_accuracy: 0.9513 - 3s/epoch - 7ms/step\n",
            "Epoch 2/10\n",
            "420/420 - 2s - loss: 0.1274 - accuracy: 0.9609 - val_loss: 0.1346 - val_accuracy: 0.9608 - 2s/epoch - 6ms/step\n",
            "Epoch 3/10\n",
            "420/420 - 2s - loss: 0.0873 - accuracy: 0.9733 - val_loss: 0.1103 - val_accuracy: 0.9677 - 2s/epoch - 5ms/step\n",
            "Epoch 4/10\n",
            "420/420 - 2s - loss: 0.0636 - accuracy: 0.9797 - val_loss: 0.1016 - val_accuracy: 0.9692 - 2s/epoch - 6ms/step\n",
            "Epoch 5/10\n",
            "420/420 - 3s - loss: 0.0469 - accuracy: 0.9853 - val_loss: 0.1138 - val_accuracy: 0.9696 - 3s/epoch - 6ms/step\n",
            "Epoch 6/10\n",
            "420/420 - 3s - loss: 0.0366 - accuracy: 0.9882 - val_loss: 0.1115 - val_accuracy: 0.9708 - 3s/epoch - 6ms/step\n",
            "Epoch 7/10\n",
            "420/420 - 2s - loss: 0.0327 - accuracy: 0.9895 - val_loss: 0.1098 - val_accuracy: 0.9719 - 2s/epoch - 6ms/step\n",
            "Epoch 8/10\n",
            "420/420 - 2s - loss: 0.0270 - accuracy: 0.9914 - val_loss: 0.1060 - val_accuracy: 0.9732 - 2s/epoch - 6ms/step\n",
            "Epoch 9/10\n",
            "420/420 - 3s - loss: 0.0230 - accuracy: 0.9927 - val_loss: 0.1245 - val_accuracy: 0.9696 - 3s/epoch - 6ms/step\n",
            "Epoch 10/10\n",
            "420/420 - 2s - loss: 0.0195 - accuracy: 0.9935 - val_loss: 0.1264 - val_accuracy: 0.9714 - 2s/epoch - 6ms/step\n",
            "------------- Model 1 ----------------\n",
            "Epoch 1/10\n",
            "420/420 - 2s - loss: 0.3846 - accuracy: 0.8920 - val_loss: 0.2220 - val_accuracy: 0.9373 - 2s/epoch - 6ms/step\n",
            "Epoch 2/10\n",
            "420/420 - 2s - loss: 0.1792 - accuracy: 0.9488 - val_loss: 0.1664 - val_accuracy: 0.9535 - 2s/epoch - 5ms/step\n",
            "Epoch 3/10\n",
            "420/420 - 2s - loss: 0.1299 - accuracy: 0.9629 - val_loss: 0.1408 - val_accuracy: 0.9595 - 2s/epoch - 5ms/step\n",
            "Epoch 4/10\n",
            "420/420 - 2s - loss: 0.1016 - accuracy: 0.9705 - val_loss: 0.1253 - val_accuracy: 0.9635 - 2s/epoch - 4ms/step\n",
            "Epoch 5/10\n",
            "420/420 - 2s - loss: 0.0826 - accuracy: 0.9762 - val_loss: 0.1238 - val_accuracy: 0.9644 - 2s/epoch - 5ms/step\n",
            "Epoch 6/10\n",
            "420/420 - 2s - loss: 0.0664 - accuracy: 0.9817 - val_loss: 0.1143 - val_accuracy: 0.9664 - 2s/epoch - 5ms/step\n",
            "Epoch 7/10\n",
            "420/420 - 2s - loss: 0.0551 - accuracy: 0.9850 - val_loss: 0.1068 - val_accuracy: 0.9694 - 2s/epoch - 5ms/step\n",
            "Epoch 8/10\n",
            "420/420 - 2s - loss: 0.0461 - accuracy: 0.9878 - val_loss: 0.1079 - val_accuracy: 0.9682 - 2s/epoch - 5ms/step\n",
            "Epoch 9/10\n",
            "420/420 - 2s - loss: 0.0386 - accuracy: 0.9894 - val_loss: 0.1020 - val_accuracy: 0.9718 - 2s/epoch - 5ms/step\n",
            "Epoch 10/10\n",
            "420/420 - 2s - loss: 0.0311 - accuracy: 0.9922 - val_loss: 0.0983 - val_accuracy: 0.9720 - 2s/epoch - 5ms/step\n"
          ]
        },
        {
          "output_type": "execute_result",
          "data": {
            "text/plain": [
              "<keras.callbacks.History at 0x7f6d24074a50>"
            ]
          },
          "metadata": {},
          "execution_count": 21
        }
      ],
      "source": [
        "model3_bis = Sequential([\n",
        "    InputLayer(input_shape=x_train.shape[1:]),\n",
        "    Dense(units=128, activation=\"relu\"),\n",
        "    Dense(units=128, activation=\"relu\"),\n",
        "    Dense(units=128, activation=\"relu\"),\n",
        "    Dense(units=y_train.shape[1], activation=\"softmax\")\n",
        "])\n",
        "print(\"------------- Model 3 ----------------\")\n",
        "\n",
        "model3_bis.compile(loss=\"categorical_crossentropy\", optimizer=\"adam\", metrics=[\"accuracy\"])\n",
        "model3_bis.fit(x_train, y_train, epochs=10, batch_size=100, verbose=2, validation_split=0.3)\n",
        "\n",
        "print(\"------------- Model 1 ----------------\")\n",
        "model1_bis = Sequential([\n",
        "    InputLayer(input_shape=x_train.shape[1:]),\n",
        "    Dense(units=128, activation=\"relu\"),\n",
        "    Dense(units=y_train.shape[1], activation=\"softmax\")\n",
        "])\n",
        "model1_bis.compile(loss=\"categorical_crossentropy\", optimizer=\"adam\", metrics=[\"accuracy\"])\n",
        "model1_bis.fit(x_train, y_train, epochs=10, batch_size=100, verbose=2, validation_split=0.3)"
      ]
    },
    {
      "cell_type": "markdown",
      "metadata": {
        "cell_id": "00028-47912783-f891-416d-9e9d-05d57a819e7c",
        "deepnote_cell_type": "markdown",
        "id": "ot8jiQHuEZxr"
      },
      "source": [
        "**Question #8.** Using [the docs](https://www.tensorflow.org/api_docs/python/tf/keras/optimizers), vary the learning rate of your optimizer from a very low value to a much larger one so as to show evidence of:\n",
        "* instability when the learning rate is too large;\n",
        "* slow convergence when the learning rate is too low."
      ]
    },
    {
      "cell_type": "code",
      "execution_count": 10,
      "metadata": {
        "cell_id": "00029-16623cf9-4788-418c-8696-9e61bfe444fb",
        "deepnote_cell_type": "code",
        "deepnote_to_be_reexecuted": true,
        "execution_millis": 38776,
        "id": "pZfwWRDPEa1g",
        "output_cleared": true,
        "source_hash": "b623e53d",
        "colab": {
          "base_uri": "https://localhost:8080/",
          "height": 612
        },
        "outputId": "1ab81c0d-1b7d-4900-edd8-c5a949552f82"
      },
      "outputs": [
        {
          "output_type": "stream",
          "name": "stdout",
          "text": [
            "------------- Model 3 ----------------\n",
            "Epoch 1/10\n",
            "420/420 - 3s - loss: 130589.0234 - accuracy: 0.1008 - val_loss: 2.3368 - val_accuracy: 0.0966 - 3s/epoch - 8ms/step\n",
            "Epoch 2/10\n",
            "420/420 - 3s - loss: 2.3823 - accuracy: 0.1015 - val_loss: 2.3691 - val_accuracy: 0.1006 - 3s/epoch - 6ms/step\n",
            "Epoch 3/10\n",
            "420/420 - 3s - loss: 2.4111 - accuracy: 0.1019 - val_loss: 2.6133 - val_accuracy: 0.0989 - 3s/epoch - 6ms/step\n",
            "Epoch 4/10\n",
            "420/420 - 2s - loss: 2.4308 - accuracy: 0.0999 - val_loss: 2.4364 - val_accuracy: 0.0966 - 2s/epoch - 6ms/step\n",
            "Epoch 5/10\n",
            "420/420 - 2s - loss: 2.4151 - accuracy: 0.1009 - val_loss: 2.4733 - val_accuracy: 0.1006 - 2s/epoch - 5ms/step\n",
            "Epoch 6/10\n",
            "Epoch 7/10\n",
            "420/420 - 2s - loss: 2.4398 - accuracy: 0.1023 - val_loss: 2.4671 - val_accuracy: 0.0966 - 2s/epoch - 6ms/step\n",
            "Epoch 8/10\n",
            "420/420 - 2s - loss: 2.4372 - accuracy: 0.0975 - val_loss: 2.3620 - val_accuracy: 0.0966 - 2s/epoch - 5ms/step\n",
            "Epoch 9/10\n",
            "420/420 - 2s - loss: 2.4448 - accuracy: 0.0992 - val_loss: 2.3504 - val_accuracy: 0.1075 - 2s/epoch - 5ms/step\n",
            "Epoch 10/10\n",
            "420/420 - 2s - loss: 2.4464 - accuracy: 0.1005 - val_loss: 2.4803 - val_accuracy: 0.1079 - 2s/epoch - 6ms/step\n"
          ]
        },
        {
          "output_type": "display_data",
          "data": {
            "text/plain": [
              "<Figure size 432x288 with 1 Axes>"
            ],
            "image/png": "[encoded data removed]"
          },
          "metadata": {
            "needs_background": "light"
          }
        }
      ],
      "source": [
        "model = Sequential([\n",
        "    InputLayer(input_shape=x_train.shape[1:]),\n",
        "    Dense(units=128, activation=\"relu\"),\n",
        "    Dense(units=128, activation=\"relu\"),\n",
        "    Dense(units=128, activation=\"relu\"),\n",
        "    Dense(units=y_train.shape[1], activation=\"softmax\")\n",
        "])\n",
        "print(\"------------- Model ----------------\")\n",
        "\n",
        "import tensorflow as tf\n",
        "\n",
        "model.compile(loss=\"categorical_crossentropy\", optimizer=tf.keras.optimizers.Adam(learning_rate=3), metrics=[\"accuracy\"])\n",
        "h=model.fit(x_train, y_train, epochs=10, batch_size=100, verbose=2, validation_split=0.3)\n",
        "plt.plot(h.history[\"accuracy\"])\n",
        "plt.show()"
      ]
    },
    {
      "cell_type": "code",
      "source": [
        "model = Sequential([\n",
        "    InputLayer(input_shape=x_train.shape[1:]),\n",
        "    Dense(units=128, activation=\"relu\"),\n",
        "    Dense(units=128, activation=\"relu\"),\n",
        "    Dense(units=128, activation=\"relu\"),\n",
        "    Dense(units=y_train.shape[1], activation=\"softmax\")\n",
        "])\n",
        "print(\"------------- Model ----------------\")\n",
        "\n",
        "import tensorflow as tf\n",
        "\n",
        "model.compile(loss=\"categorical_crossentropy\", optimizer=tf.keras.optimizers.Adam(learning_rate=0.00001), metrics=[\"accuracy\"])\n",
        "h=model.fit(x_train, y_train, epochs=10, batch_size=100, verbose=2, validation_split=0.3)\n",
        "plt.plot(h.history[\"accuracy\"])\n",
        "plt.show()"
      ],
      "metadata": {
        "colab": {
          "base_uri": "https://localhost:8080/",
          "height": 629
        },
        "id": "m9AqkNaSGXU4",
        "outputId": "57b001b8-ff33-4795-d3b5-fe57725c5edf"
      },
      "execution_count": 11,
      "outputs": [
        {
          "output_type": "stream",
          "name": "stdout",
          "text": [
            "------------- Model ----------------\n",
            "Epoch 1/10\n",
            "420/420 - 7s - loss: 2.1944 - accuracy: 0.2594 - val_loss: 2.0356 - val_accuracy: 0.4518 - 7s/epoch - 16ms/step\n",
            "Epoch 2/10\n",
            "420/420 - 2s - loss: 1.8108 - accuracy: 0.5722 - val_loss: 1.5383 - val_accuracy: 0.6834 - 2s/epoch - 5ms/step\n",
            "Epoch 3/10\n",
            "420/420 - 2s - loss: 1.3034 - accuracy: 0.7065 - val_loss: 1.0695 - val_accuracy: 0.7517 - 2s/epoch - 5ms/step\n",
            "Epoch 4/10\n",
            "420/420 - 4s - loss: 0.9368 - accuracy: 0.7741 - val_loss: 0.7937 - val_accuracy: 0.8184 - 4s/epoch - 8ms/step\n",
            "Epoch 5/10\n",
            "420/420 - 3s - loss: 0.7282 - accuracy: 0.8258 - val_loss: 0.6378 - val_accuracy: 0.8492 - 3s/epoch - 6ms/step\n",
            "Epoch 6/10\n",
            "420/420 - 2s - loss: 0.6028 - accuracy: 0.8548 - val_loss: 0.5402 - val_accuracy: 0.8688 - 2s/epoch - 6ms/step\n",
            "Epoch 7/10\n",
            "420/420 - 2s - loss: 0.5214 - accuracy: 0.8722 - val_loss: 0.4763 - val_accuracy: 0.8814 - 2s/epoch - 6ms/step\n",
            "Epoch 8/10\n",
            "420/420 - 3s - loss: 0.4654 - accuracy: 0.8835 - val_loss: 0.4315 - val_accuracy: 0.8876 - 3s/epoch - 6ms/step\n",
            "Epoch 9/10\n",
            "420/420 - 2s - loss: 0.4253 - accuracy: 0.8913 - val_loss: 0.3994 - val_accuracy: 0.8941 - 2s/epoch - 6ms/step\n",
            "Epoch 10/10\n",
            "420/420 - 3s - loss: 0.3949 - accuracy: 0.8972 - val_loss: 0.3739 - val_accuracy: 0.9002 - 3s/epoch - 6ms/step\n"
          ]
        },
        {
          "output_type": "display_data",
          "data": {
            "text/plain": [
              "<Figure size 432x288 with 1 Axes>"
            ],
            "image/png": "[encoded data removed]"
          },
          "metadata": {
            "needs_background": "light"
          }
        }
      ]
    },
    {
      "cell_type": "markdown",
      "metadata": {
        "cell_id": "00030-f3edc3e5-83b2-4417-99c0-ce99030af441",
        "deepnote_cell_type": "markdown",
        "id": "tyCzy_PNEqwE"
      },
      "source": [
        "## Callbacks\n",
        "\n",
        "Callbacks are tools that, in `keras`, allow one to intervene during the training process of a model. \n",
        "Callbacks can be used to take actions (_ie._ save intermediate model, stop optimization if overfitting occurs, _etc._).\n",
        "\n",
        "A first callback one can play with is the one returned by any call to `fit` on a `keras` model.\n",
        "This callback is an object with an `.history` attribute in the form of a Python dictionnary whose keys are the metrics recorded during training. Each of these keys links to an array containing the consecutive values of the considered quantity (one value per epoch).\n",
        "\n",
        "**Question #9.** Plot correct classification rates on both training and validation sets."
      ]
    },
    {
      "cell_type": "code",
      "execution_count": 26,
      "metadata": {
        "cell_id": "00031-a30d0556-649b-490f-8b57-f0ac45eb245a",
        "deepnote_cell_type": "code",
        "deepnote_to_be_reexecuted": true,
        "execution_millis": 67,
        "id": "qA-RPKzaI4-s",
        "output_cleared": true,
        "source_hash": "b623e53d",
        "colab": {
          "base_uri": "https://localhost:8080/"
        },
        "outputId": "0cf7d2e3-9fb5-419f-ff57-f0bdb00528c4"
      },
      "outputs": [
        {
          "output_type": "stream",
          "name": "stdout",
          "text": [
            "------------- Model ----------------\n",
            "Epoch 1/10\n",
            "420/420 - 3s - loss: 0.3397 - accuracy: 0.9014 - val_loss: 0.1810 - val_accuracy: 0.9465 - 3s/epoch - 7ms/step\n",
            "Epoch 2/10\n",
            "420/420 - 3s - loss: 0.1264 - accuracy: 0.9620 - val_loss: 0.1237 - val_accuracy: 0.9629 - 3s/epoch - 6ms/step\n",
            "Epoch 3/10\n",
            "420/420 - 3s - loss: 0.0870 - accuracy: 0.9737 - val_loss: 0.1098 - val_accuracy: 0.9681 - 3s/epoch - 6ms/step\n",
            "Epoch 4/10\n",
            "420/420 - 2s - loss: 0.0635 - accuracy: 0.9803 - val_loss: 0.1197 - val_accuracy: 0.9650 - 2s/epoch - 6ms/step\n",
            "Epoch 5/10\n",
            "420/420 - 3s - loss: 0.0498 - accuracy: 0.9842 - val_loss: 0.1163 - val_accuracy: 0.9662 - 3s/epoch - 6ms/step\n",
            "Epoch 6/10\n",
            "420/420 - 3s - loss: 0.0397 - accuracy: 0.9872 - val_loss: 0.1158 - val_accuracy: 0.9667 - 3s/epoch - 6ms/step\n",
            "Epoch 7/10\n",
            "420/420 - 3s - loss: 0.0324 - accuracy: 0.9889 - val_loss: 0.1128 - val_accuracy: 0.9696 - 3s/epoch - 6ms/step\n",
            "Epoch 8/10\n",
            "420/420 - 2s - loss: 0.0287 - accuracy: 0.9905 - val_loss: 0.1188 - val_accuracy: 0.9706 - 2s/epoch - 6ms/step\n",
            "Epoch 9/10\n",
            "420/420 - 3s - loss: 0.0206 - accuracy: 0.9933 - val_loss: 0.1170 - val_accuracy: 0.9716 - 3s/epoch - 6ms/step\n",
            "Epoch 10/10\n",
            "420/420 - 2s - loss: 0.0187 - accuracy: 0.9935 - val_loss: 0.1237 - val_accuracy: 0.9708 - 2s/epoch - 6ms/step\n"
          ]
        }
      ],
      "source": [
        "model = Sequential([\n",
        "    InputLayer(input_shape=x_train.shape[1:]),\n",
        "    Dense(units=128, activation=\"relu\"),\n",
        "    Dense(units=128, activation=\"relu\"),\n",
        "    Dense(units=128, activation=\"relu\"),\n",
        "    Dense(units=y_train.shape[1], activation=\"softmax\")\n",
        "])\n",
        "print(\"------------- Model ----------------\")\n",
        "\n",
        "import tensorflow as tf\n",
        "\n",
        "model.compile(loss=\"categorical_crossentropy\", optimizer=tf.keras.optimizers.Adam(learning_rate=0.001), metrics=[\"accuracy\"])\n",
        "h=model.fit(x_train, y_train, epochs=10, batch_size=100, verbose=2, validation_split=0.3)\n"
      ]
    },
    {
      "cell_type": "code",
      "source": [
        "plt.plot(h.history[\"accuracy\"], label=\"train\")\n",
        "plt.plot(h.history[\"val_accuracy\"], label=\"val\")\n",
        "plt.legend()\n",
        "plt.show()\n"
      ],
      "metadata": {
        "colab": {
          "base_uri": "https://localhost:8080/",
          "height": 265
        },
        "id": "gJ7PakYdJp_g",
        "outputId": "41a025b6-80cc-45ed-a5e8-fa6584a38b15"
      },
      "execution_count": 27,
      "outputs": [
        {
          "output_type": "display_data",
          "data": {
            "text/plain": [
              "<Figure size 432x288 with 1 Axes>"
            ],
            "image/png": "[encoded data removed]"
          },
          "metadata": {
            "needs_background": "light"
          }
        }
      ]
    },
    {
      "cell_type": "code",
      "source": [
        "plt.plot(h.history[\"loss\"], label=\"train\")\n",
        "plt.plot(h.history[\"val_loss\"], label=\"val\")\n",
        "plt.legend()\n",
        "plt.show()"
      ],
      "metadata": {
        "colab": {
          "base_uri": "https://localhost:8080/",
          "height": 265
        },
        "id": "zwYcKBnmJ5AB",
        "outputId": "e506e831-3a9f-4deb-8bbd-844b12885bb1"
      },
      "execution_count": 19,
      "outputs": [
        {
          "output_type": "display_data",
          "data": {
            "text/plain": [
              "<Figure size 432x288 with 1 Axes>"
            ],
            "image/png": "[encoded data removed]"
          },
          "metadata": {
            "needs_background": "light"
          }
        }
      ]
    },
    {
      "cell_type": "code",
      "source": [
        "print(h.history)"
      ],
      "metadata": {
        "colab": {
          "base_uri": "https://localhost:8080/"
        },
        "id": "e62VERcgI27e",
        "outputId": "828ecfb7-8d14-4823-9a06-f988786316fa"
      },
      "execution_count": 15,
      "outputs": [
        {
          "output_type": "stream",
          "name": "stdout",
          "text": [
            "{'loss': [0.3370908498764038, 0.12922178208827972, 0.08662495762109756, 0.06440471857786179, 0.04717715457081795, 0.03937496617436409, 0.03242246434092522, 0.025092830881476402, 0.022837011143565178, 0.0185247752815485], 'accuracy': [0.9009523987770081, 0.9612380862236023, 0.9733571410179138, 0.9804999828338623, 0.9844047427177429, 0.987500011920929, 0.989476203918457, 0.9915476441383362, 0.9921904802322388, 0.9937857389450073], 'val_loss': [0.169785276055336, 0.13922066986560822, 0.1195659339427948, 0.11523612588644028, 0.1271110326051712, 0.11349211633205414, 0.11330565065145493, 0.10742508620023727, 0.11047232896089554, 0.15307030081748962], 'val_accuracy': [0.9501110911369324, 0.9575555324554443, 0.965666651725769, 0.967555582523346, 0.9642778038978577, 0.9693333506584167, 0.9693333506584167, 0.9726666808128357, 0.9737222194671631, 0.9625555276870728]}\n"
          ]
        }
      ]
    },
    {
      "cell_type": "markdown",
      "metadata": {
        "cell_id": "00032-0b2aa348-08ef-45f0-8984-70863c338c77",
        "deepnote_cell_type": "markdown",
        "id": "l9y1at8qI5cO"
      },
      "source": [
        "Setting up other callbacks must be explicit. This is done by passing a list of callbacks to the `fit` method.\n",
        "\n",
        "When training a model is long, one can wish to record intermediate models (in case of a crash during training, or just for cases when intermediate models were performing better than the final one).\n",
        "The [`ModelCheckpoint`](https://www.tensorflow.org/api_docs/python/tf/keras/callbacks/ModelCheckpoint) callback is designed for that purpose.\n",
        "\n",
        "**Question #10.** Set up recording of intermediate models every epoch. Save the models into a dedicated file `model.hdf5` on your Deepnote project. Only record models if validation loss is lower than for all previous models."
      ]
    },
    {
      "cell_type": "code",
      "execution_count": 22,
      "metadata": {
        "cell_id": "00027-fc377b2f-fe5b-4d0e-94b4-faa235dae4bc",
        "deepnote_cell_type": "code",
        "deepnote_to_be_reexecuted": true,
        "source_hash": "b623e53d",
        "tags": [],
        "id": "BqfWRG-I93v6",
        "colab": {
          "base_uri": "https://localhost:8080/",
          "height": 397
        },
        "outputId": "f531072b-1e54-4405-9706-2a177e30a334"
      },
      "outputs": [
        {
          "output_type": "stream",
          "name": "stdout",
          "text": [
            "Epoch 1/10\n"
          ]
        },
        {
          "output_type": "error",
          "ename": "ValueError",
          "evalue": "ignored",
          "traceback": [
            "\u001b[0;31m---------------------------------------------------------------------------\u001b[0m",
            "\u001b[0;31mValueError\u001b[0m                                Traceback (most recent call last)",
            "\u001b[0;32m<ipython-input-22-f2e0ebef7ab0>\u001b[0m in \u001b[0;36m<module>\u001b[0;34m\u001b[0m\n\u001b[1;32m      7\u001b[0m     save_best_only=True)\n\u001b[1;32m      8\u001b[0m \u001b[0;34m\u001b[0m\u001b[0m\n\u001b[0;32m----> 9\u001b[0;31m \u001b[0mmodel\u001b[0m\u001b[0;34m.\u001b[0m\u001b[0mfit\u001b[0m\u001b[0;34m(\u001b[0m\u001b[0mx_train\u001b[0m\u001b[0;34m,\u001b[0m \u001b[0my_train\u001b[0m\u001b[0;34m,\u001b[0m \u001b[0mepochs\u001b[0m\u001b[0;34m=\u001b[0m\u001b[0;36m10\u001b[0m\u001b[0;34m,\u001b[0m \u001b[0mbatch_size\u001b[0m\u001b[0;34m=\u001b[0m\u001b[0;36m100\u001b[0m\u001b[0;34m,\u001b[0m \u001b[0mverbose\u001b[0m\u001b[0;34m=\u001b[0m\u001b[0;36m2\u001b[0m\u001b[0;34m,\u001b[0m \u001b[0mvalidation_split\u001b[0m\u001b[0;34m=\u001b[0m\u001b[0;36m0.3\u001b[0m\u001b[0;34m,\u001b[0m \u001b[0mcallbacks\u001b[0m\u001b[0;34m=\u001b[0m\u001b[0;34m[\u001b[0m\u001b[0mmodel_checkpoint_callback\u001b[0m\u001b[0;34m]\u001b[0m\u001b[0;34m)\u001b[0m\u001b[0;34m\u001b[0m\u001b[0;34m\u001b[0m\u001b[0m\n\u001b[0m\u001b[1;32m     10\u001b[0m \u001b[0;34m\u001b[0m\u001b[0m\n\u001b[1;32m     11\u001b[0m \u001b[0;34m\u001b[0m\u001b[0m\n",
            "\u001b[0;32m/usr/local/lib/python3.7/dist-packages/keras/utils/traceback_utils.py\u001b[0m in \u001b[0;36merror_handler\u001b[0;34m(*args, **kwargs)\u001b[0m\n\u001b[1;32m     65\u001b[0m     \u001b[0;32mexcept\u001b[0m \u001b[0mException\u001b[0m \u001b[0;32mas\u001b[0m \u001b[0me\u001b[0m\u001b[0;34m:\u001b[0m  \u001b[0;31m# pylint: disable=broad-except\u001b[0m\u001b[0;34m\u001b[0m\u001b[0;34m\u001b[0m\u001b[0m\n\u001b[1;32m     66\u001b[0m       \u001b[0mfiltered_tb\u001b[0m \u001b[0;34m=\u001b[0m \u001b[0m_process_traceback_frames\u001b[0m\u001b[0;34m(\u001b[0m\u001b[0me\u001b[0m\u001b[0;34m.\u001b[0m\u001b[0m__traceback__\u001b[0m\u001b[0;34m)\u001b[0m\u001b[0;34m\u001b[0m\u001b[0;34m\u001b[0m\u001b[0m\n\u001b[0;32m---> 67\u001b[0;31m       \u001b[0;32mraise\u001b[0m \u001b[0me\u001b[0m\u001b[0;34m.\u001b[0m\u001b[0mwith_traceback\u001b[0m\u001b[0;34m(\u001b[0m\u001b[0mfiltered_tb\u001b[0m\u001b[0;34m)\u001b[0m \u001b[0;32mfrom\u001b[0m \u001b[0;32mNone\u001b[0m\u001b[0;34m\u001b[0m\u001b[0;34m\u001b[0m\u001b[0m\n\u001b[0m\u001b[1;32m     68\u001b[0m     \u001b[0;32mfinally\u001b[0m\u001b[0;34m:\u001b[0m\u001b[0;34m\u001b[0m\u001b[0;34m\u001b[0m\u001b[0m\n\u001b[1;32m     69\u001b[0m       \u001b[0;32mdel\u001b[0m \u001b[0mfiltered_tb\u001b[0m\u001b[0;34m\u001b[0m\u001b[0;34m\u001b[0m\u001b[0m\n",
            "\u001b[0;32m/usr/lib/python3.7/posixpath.py\u001b[0m in \u001b[0;36mrelpath\u001b[0;34m(path, start)\u001b[0m\n\u001b[1;32m    455\u001b[0m \u001b[0;34m\u001b[0m\u001b[0m\n\u001b[1;32m    456\u001b[0m     \u001b[0;32mif\u001b[0m \u001b[0;32mnot\u001b[0m \u001b[0mpath\u001b[0m\u001b[0;34m:\u001b[0m\u001b[0;34m\u001b[0m\u001b[0;34m\u001b[0m\u001b[0m\n\u001b[0;32m--> 457\u001b[0;31m         \u001b[0;32mraise\u001b[0m \u001b[0mValueError\u001b[0m\u001b[0;34m(\u001b[0m\u001b[0;34m\"no path specified\"\u001b[0m\u001b[0;34m)\u001b[0m\u001b[0;34m\u001b[0m\u001b[0;34m\u001b[0m\u001b[0m\n\u001b[0m\u001b[1;32m    458\u001b[0m \u001b[0;34m\u001b[0m\u001b[0m\n\u001b[1;32m    459\u001b[0m     \u001b[0mpath\u001b[0m \u001b[0;34m=\u001b[0m \u001b[0mos\u001b[0m\u001b[0;34m.\u001b[0m\u001b[0mfspath\u001b[0m\u001b[0;34m(\u001b[0m\u001b[0mpath\u001b[0m\u001b[0;34m)\u001b[0m\u001b[0;34m\u001b[0m\u001b[0;34m\u001b[0m\u001b[0m\n",
            "\u001b[0;31mValueError\u001b[0m: no path specified"
          ]
        }
      ],
      "source": [
        "checkpoint_filepath = '/tmp/checkpoint'\n",
        "model_checkpoint_callback = tf.keras.callbacks.ModelCheckpoint(\n",
        "    filepath=checkpoint_filepath,\n",
        "    save_weights_only=True,\n",
        "    monitor='val_accuracy',\n",
        "    mode='max',\n",
        "    save_best_only=True)\n",
        "\n",
        "model.fit(x_train, y_train, epochs=10, batch_size=100, verbose=2, validation_split=0.3, callbacks=[model_checkpoint_callback])\n",
        "\n",
        "\n"
      ]
    },
    {
      "cell_type": "markdown",
      "metadata": {
        "cell_id": "00028-e61b8442-9511-4a89-a53c-9590238e0fd2",
        "deepnote_cell_type": "markdown",
        "tags": [],
        "id": "MMU6nL3s93v6"
      },
      "source": [
        "Use the code below to check that a model has been saved:"
      ]
    },
    {
      "cell_type": "code",
      "execution_count": 23,
      "metadata": {
        "cell_id": "00034-e0f2a0eb-f551-440e-94fb-2db94f18bde6",
        "deepnote_cell_type": "code",
        "deepnote_to_be_reexecuted": true,
        "id": "m0Zqsvh8Bowh",
        "source_hash": "3b41946",
        "colab": {
          "base_uri": "https://localhost:8080/"
        },
        "outputId": "6fe8f33d-ee85-416d-d5ab-ad00bab405b1"
      },
      "outputs": [
        {
          "output_type": "stream",
          "name": "stdout",
          "text": [
            "ls: cannot access '/tmp/checkpoint/model.hdf5': Not a directory\n"
          ]
        }
      ],
      "source": [
        "!ls -alh \"/tmp/checkpoint/model.hdf5\""
      ]
    },
    {
      "cell_type": "markdown",
      "metadata": {
        "cell_id": "00035-1206a01d-7467-4a3e-bbdc-ee72b70366a2",
        "deepnote_cell_type": "markdown",
        "id": "WFehub4rLrZm"
      },
      "source": [
        "## Regularization\n",
        "\n",
        "**Question #11.** Add an $\\ell_2$ regularization to the weights of your model and show its impact on overfitting. [These docs](https://www.tensorflow.org/api_docs/python/tf/keras/regularizers) could help."
      ]
    },
    {
      "cell_type": "code",
      "execution_count": null,
      "metadata": {
        "cell_id": "00030-dcf2874b-1d98-4a94-9f5d-a048e99081d8",
        "deepnote_cell_type": "code",
        "deepnote_to_be_reexecuted": true,
        "source_hash": "b623e53d",
        "tags": [],
        "id": "cuJ3ZwSC93v8"
      },
      "outputs": [],
      "source": []
    },
    {
      "cell_type": "markdown",
      "metadata": {
        "cell_id": "00037-eeefff63-cd4e-4d79-b3ed-4f6bfb2ce154",
        "deepnote_cell_type": "markdown",
        "id": "vumLi62gNVhk"
      },
      "source": [
        "**Question #12.** Instead of the $\\ell_2$ regularization, set up a [drop-out](https://www.tensorflow.org/api_docs/python/tf/keras/layers/Dropout) strategy and assess its impact on overfitting (you will turn off 10% of the neurons at each training batch)."
      ]
    },
    {
      "cell_type": "code",
      "execution_count": null,
      "metadata": {
        "cell_id": "00031-76277bb0-9d1e-44c8-a795-8144cb710525",
        "deepnote_cell_type": "code",
        "deepnote_to_be_reexecuted": true,
        "source_hash": "b623e53d",
        "tags": [],
        "id": "YgKNJ0lC93v8"
      },
      "outputs": [],
      "source": []
    },
    {
      "cell_type": "markdown",
      "metadata": {
        "cell_id": "00041-10a0c691-e01a-451e-807b-594ba76cc1fa",
        "deepnote_cell_type": "markdown",
        "id": "xbOmJKruNYyS"
      },
      "source": [
        "**Question #13.** Set up an [`EarlyStopping`](https://www.tensorflow.org/api_docs/python/tf/keras/callbacks/EarlyStopping) strategy such that training the model will stop in case the validation loss does not decrease for 5 consecutive epochs."
      ]
    },
    {
      "cell_type": "code",
      "execution_count": null,
      "metadata": {
        "cell_id": "00033-d7da52c7-7fbf-4f7d-940d-821cbe255b64",
        "deepnote_cell_type": "code",
        "deepnote_to_be_reexecuted": true,
        "source_hash": "b623e53d",
        "tags": [],
        "id": "qymmrWC993v8"
      },
      "outputs": [],
      "source": []
    }
  ],
  "metadata": {
    "colab": {
      "collapsed_sections": [],
      "name": "MLP.ipynb",
      "provenance": []
    },
    "deepnote": {},
    "deepnote_execution_queue": [],
    "deepnote_notebook_id": "35aa3537-3e05-40fa-86f0-1f7ded16df52",
    "kernelspec": {
      "display_name": "Python 3",
      "name": "python3"
    },
    "language_info": {
      "name": "python",
      "version": "3.8.9"
    }
  },
  "nbformat": 4,
  "nbformat_minor": 0
}