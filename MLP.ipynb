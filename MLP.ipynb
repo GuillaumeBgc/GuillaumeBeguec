{
  "cells": [
    {
      "cell_type": "markdown",
      "metadata": {
        "cell_id": "00000-4e5bf590-09bc-42f5-a318-08994a30bfd4",
        "deepnote_cell_type": "markdown",
        "id": "NjCKi8REqlN6"
      },
      "source": [
        "# Multi-Layer Perceptron in `keras`\n",
        "\n",
        "In this series of lab sessions, you will use a Python library called `keras` (that is in fact embedded inside a larger library called `tensorflow`, but we will not discuss `tensorflow` in this course).\n",
        "You should visit [`keras` webpage](https://www.tensorflow.org/guide/keras/overview) to get access to more information about this library, including a comprehensive documentation.\n",
        "\n",
        "## The `Sequential` model in `keras`\n",
        "\n",
        "This library offers two ways to define neural network models. \n",
        "We will start with the `Sequential` class of `keras` models.\n",
        "Below is an example of how to define a `Sequential` model:"
      ]
    },
    {
      "cell_type": "code",
      "execution_count": 2,
      "metadata": {
        "cell_id": "00001-e7a9d101-f83a-49f2-ae43-deb55009fadf",
        "deepnote_cell_type": "code",
        "deepnote_to_be_reexecuted": false,
        "execution_millis": 1216,
        "execution_start": 1613342071585,
        "id": "PRKkYealqiiG",
        "output_cleared": false,
        "source_hash": "b851176a"
      },
      "outputs": [],
      "source": [
        "from tensorflow.keras.models import Sequential\n",
        "from tensorflow.keras.layers import Dense, InputLayer"
      ]
    },
    {
      "cell_type": "markdown",
      "metadata": {
        "cell_id": "00002-fddb7023-3fe5-422a-ab01-7974d23883a6",
        "deepnote_cell_type": "markdown",
        "id": "1UdkphfnspbR"
      },
      "source": [
        "**1. Define layers, and add them one by one to the model**\n"
      ]
    },
    {
      "cell_type": "code",
      "execution_count": 3,
      "metadata": {
        "cell_id": "00003-3e192e55-740f-4e3e-9969-016701af86a1",
        "deepnote_cell_type": "code",
        "deepnote_to_be_reexecuted": false,
        "execution_millis": 57,
        "execution_start": 1613342072806,
        "id": "JD54PuqWsp4Y",
        "source_hash": "e4cce2c1"
      },
      "outputs": [],
      "source": [
        "input_layer = InputLayer(input_shape=(24,))\n",
        "hidden_layer1 = Dense(units=12, activation=\"relu\")\n",
        "hidden_layer2 = Dense(units=12, activation=\"sigmoid\")\n",
        "#[...]\n",
        "output_layer = Dense(units=3, activation=\"linear\")\n",
        "\n",
        "model = Sequential([\n",
        "    input_layer,\n",
        "    hidden_layer1,\n",
        "    hidden_layer2,\n",
        "    # ...\n",
        "    output_layer\n",
        "])"
      ]
    },
    {
      "cell_type": "markdown",
      "metadata": {
        "cell_id": "00004-607dbfcd-c789-4071-98bf-f51e230e647f",
        "deepnote_cell_type": "markdown",
        "id": "FTQLjyUoszDq"
      },
      "source": [
        "**2. Pick an optimization algorithm (optimizer) and a loss function to be optimized**\n",
        "\n",
        "Usual loss functions are:\n",
        "* `\"mse\"` for regression,\n",
        "* `\"categorical_crossentropy\"` for multiclass classification (when the `y` array fed to `fit` is of shape $(n, n_\\text{classes})$)\n",
        "* `\"binary_crossentropy\"` for binary classification (when the model is fed with `y` array of shape $(n, 1)$)\n",
        "\n",
        "One can also specify additional metrics to be printed during training (correct classification rate here)."
      ]
    },
    {
      "cell_type": "code",
      "execution_count": 4,
      "metadata": {
        "cell_id": "00005-29ab32a8-52eb-40c1-9c63-1e8b8943cbdd",
        "deepnote_cell_type": "code",
        "deepnote_to_be_reexecuted": false,
        "execution_millis": 9,
        "execution_start": 1613342072870,
        "id": "A_21M9Jqs3eJ",
        "source_hash": "63a93405"
      },
      "outputs": [],
      "source": [
        "model.compile(optimizer=\"sgd\", loss=\"categorical_crossentropy\", metrics=[\"accuracy\"])"
      ]
    },
    {
      "cell_type": "markdown",
      "metadata": {
        "cell_id": "00006-1084a597-d5d5-4e2e-96ba-bf42d51d64c7",
        "deepnote_cell_type": "markdown",
        "id": "ykI4bexvs5x-"
      },
      "source": [
        "**3. Fit the model**\n",
        "\n",
        "NB: do not try to execute the following line of code: variables `X_train` and `y_train` do not exist yet!"
      ]
    },
    {
      "cell_type": "code",
      "execution_count": null,
      "metadata": {
        "cell_id": "00007-8516017c-c628-4ef3-ac0f-d80ca5f74a93",
        "deepnote_cell_type": "code",
        "deepnote_to_be_reexecuted": false,
        "execution_millis": 2,
        "execution_start": 1613342072879,
        "id": "rt89yAdWs688",
        "source_hash": "fd94a07d"
      },
      "outputs": [],
      "source": [
        "#model.fit(X_train, y_train, verbose=2, epochs=10, batch_size=200)"
      ]
    },
    {
      "cell_type": "markdown",
      "metadata": {
        "cell_id": "00008-79f8d9f3-2a42-42bb-8bcc-fc2f1f47eecd",
        "deepnote_cell_type": "markdown",
        "id": "nHhJosslvDRY"
      },
      "source": [
        "## Data pre-processing\n",
        "\n",
        "Have a look at the `prepare_mnist` and `prepare_boston` functions defined below.\n",
        "\n",
        "**Question #1.** What do these functions do? What are the shapes of returned arrays? Does the returned data correpond to classification or regression problems?"
      ]
    },
    {
      "cell_type": "code",
      "execution_count": 5,
      "metadata": {
        "cell_id": "00009-c7c58fdf-b6f1-4f92-b82b-8ade1f4f44ca",
        "deepnote_cell_type": "code",
        "deepnote_to_be_reexecuted": false,
        "execution_millis": 1636,
        "execution_start": 1613342072885,
        "id": "7l-s71YRwTRA",
        "output_cleared": false,
        "source_hash": "1615ed07",
        "colab": {
          "base_uri": "https://localhost:8080/"
        },
        "outputId": "f5a434c2-d51e-4af0-bd1b-f84879caf05a"
      },
      "outputs": [
        {
          "output_type": "stream",
          "name": "stdout",
          "text": [
            "Downloading data from https://storage.googleapis.com/tensorflow/tf-keras-datasets/mnist.npz\n",
            "11490434/11490434 [==============================] - 0s 0us/step\n"
          ]
        }
      ],
      "source": [
        "from sklearn.preprocessing import MinMaxScaler\n",
        "from tensorflow.keras.datasets import mnist, boston_housing\n",
        "from tensorflow.keras.utils import to_categorical\n",
        "\n",
        "def prepare_mnist():\n",
        "    (x_train, y_train), (x_test, y_test) = mnist.load_data()\n",
        "    x_train = x_train.reshape((x_train.shape[0], -1))\n",
        "    x_test = x_test.reshape((x_test.shape[0], -1))\n",
        "    scaler = MinMaxScaler()\n",
        "    scaler.fit(x_train)\n",
        "    x_train = scaler.transform(x_train)\n",
        "    x_test = scaler.transform(x_test)\n",
        "    y_train = to_categorical(y_train)\n",
        "    y_test = to_categorical(y_test)\n",
        "    return x_train, x_test, y_train, y_test\n",
        "\n",
        "\n",
        "def prepare_boston():\n",
        "    (x_train, y_train), (x_test, y_test) = boston_housing.load_data()\n",
        "    scaler_x = MinMaxScaler()\n",
        "    scaler_x.fit(x_train)\n",
        "    x_train = scaler_x.transform(x_train)\n",
        "    x_test = scaler_x.transform(x_test)\n",
        "    scaler_y = MinMaxScaler()\n",
        "    scaler_y.fit(y_train.reshape((-1, 1)))\n",
        "    y_train = scaler_y.transform(y_train.reshape((-1, 1)))\n",
        "    y_test = scaler_y.transform(y_test.reshape((-1, 1)))\n",
        "    return x_train, x_test, y_train, y_test\n",
        "  \n",
        "x_train, x_test, y_train, y_test = prepare_mnist()"
      ]
    },
    {
      "cell_type": "code",
      "execution_count": 6,
      "metadata": {
        "cell_id": "00010-3c1481af-a4d7-424b-a59e-3a2745234530",
        "deepnote_cell_type": "code",
        "deepnote_to_be_reexecuted": false,
        "execution_millis": 64,
        "execution_start": 1613342074525,
        "id": "CGlUHH6KFpj3",
        "output_cleared": false,
        "source_hash": "7facd6d8",
        "colab": {
          "base_uri": "https://localhost:8080/"
        },
        "outputId": "c137ed38-782e-4bbd-c60f-2c6b3160ce48"
      },
      "outputs": [
        {
          "output_type": "stream",
          "name": "stdout",
          "text": [
            "Downloading data from https://storage.googleapis.com/tensorflow/tf-keras-datasets/boston_housing.npz\n",
            "57026/57026 [==============================] - 0s 0us/step\n"
          ]
        }
      ],
      "source": [
        "x_train, x_test, y_train, y_test = prepare_boston()"
      ]
    },
    {
      "cell_type": "code",
      "source": [],
      "metadata": {
        "id": "t5QRqTnwD5A4"
      },
      "execution_count": null,
      "outputs": []
    },
    {
      "cell_type": "markdown",
      "metadata": {
        "cell_id": "00011-1ecdf9c5-01c3-4a0d-a9c6-cfd28e6be23d",
        "deepnote_cell_type": "markdown",
        "id": "VRA_Ec2-yIGA"
      },
      "source": [
        "## Building your first models\n",
        "\n",
        "In the following, when fitting models, restrict the training to 10 epochs (which is not realistic, but training for more epochs takes time...)\n",
        "\n",
        "**Question #2.** Following the guidelines provided above, implement a linear regression model for the `boston` dataset that would optimize on a least squares objective using Stochastic Gradient Descent and fit your model to the corresponding training data."
      ]
    },
    {
      "cell_type": "code",
      "execution_count": 7,
      "metadata": {
        "cell_id": "00013-2e740cd6-9a8b-4a74-b85f-c7a66127d510",
        "deepnote_cell_type": "code",
        "deepnote_to_be_reexecuted": false,
        "execution_millis": 1,
        "execution_start": 1613342074582,
        "output_cleared": true,
        "source_hash": "b623e53d",
        "tags": [],
        "colab": {
          "base_uri": "https://localhost:8080/"
        },
        "id": "WNZvhzoL93v1",
        "outputId": "20bec73e-11ab-4e9b-c8a8-26dcb3af3564"
      },
      "outputs": [
        {
          "output_type": "stream",
          "name": "stdout",
          "text": [
            "Epoch 1/10\n",
            "5/5 - 1s - loss: 1.0081 - mse: 1.0081 - 512ms/epoch - 102ms/step\n",
            "Epoch 2/10\n",
            "5/5 - 0s - loss: 0.4968 - mse: 0.4968 - 14ms/epoch - 3ms/step\n",
            "Epoch 3/10\n",
            "5/5 - 0s - loss: 0.2693 - mse: 0.2693 - 14ms/epoch - 3ms/step\n",
            "Epoch 4/10\n",
            "5/5 - 0s - loss: 0.1713 - mse: 0.1713 - 13ms/epoch - 3ms/step\n",
            "Epoch 5/10\n",
            "5/5 - 0s - loss: 0.1154 - mse: 0.1154 - 17ms/epoch - 3ms/step\n",
            "Epoch 6/10\n",
            "5/5 - 0s - loss: 0.0950 - mse: 0.0950 - 13ms/epoch - 3ms/step\n",
            "Epoch 7/10\n",
            "5/5 - 0s - loss: 0.0842 - mse: 0.0842 - 12ms/epoch - 2ms/step\n",
            "Epoch 8/10\n",
            "5/5 - 0s - loss: 0.0782 - mse: 0.0782 - 13ms/epoch - 3ms/step\n",
            "Epoch 9/10\n",
            "5/5 - 0s - loss: 0.0754 - mse: 0.0754 - 14ms/epoch - 3ms/step\n",
            "Epoch 10/10\n",
            "5/5 - 0s - loss: 0.0737 - mse: 0.0737 - 15ms/epoch - 3ms/step\n",
            "{'loss': [1.0081490278244019, 0.4967673420906067, 0.2693397104740143, 0.17126791179180145, 0.11542278528213501, 0.09499181807041168, 0.08415966480970383, 0.07821202278137207, 0.07540690898895264, 0.07365700602531433], 'mse': [1.0081490278244019, 0.4967673420906067, 0.2693397104740143, 0.17126791179180145, 0.11542278528213501, 0.09499181807041168, 0.08415966480970383, 0.07821202278137207, 0.07540690898895264, 0.07365701347589493]}\n"
          ]
        }
      ],
      "source": [
        "import numpy as np\n",
        "dimX = np.shape(x_train)[1]\n",
        "\n",
        "input_layer = InputLayer(input_shape=(dimX,))\n",
        "output_layer = Dense(units=1, activation=\"linear\")\n",
        "\n",
        "model = Sequential([\n",
        "    input_layer,\n",
        "    output_layer\n",
        "])\n",
        "\n",
        "model.compile(optimizer=\"sgd\", loss=\"mse\", metrics=[\"mse\"])\n",
        "\n",
        "h=model.fit(x_train, y_train, verbose=2, epochs=10, batch_size=100)\n",
        "print(h.history)"
      ]
    },
    {
      "cell_type": "markdown",
      "metadata": {
        "cell_id": "00015-c40decce-b6c2-4f3e-af55-6dc6b2eb29cd",
        "deepnote_cell_type": "markdown",
        "id": "Gqt1yH9Gzfuh"
      },
      "source": [
        "**Question #3.** Similarly, define a logistic regression model for the `mnist` dataset and print its training accuracy during training."
      ]
    },
    {
      "cell_type": "code",
      "source": [
        "x_train, x_test, y_train, y_test = prepare_mnist()"
      ],
      "metadata": {
        "id": "KDjkNmLzDj2A"
      },
      "execution_count": 8,
      "outputs": []
    },
    {
      "cell_type": "code",
      "execution_count": 9,
      "metadata": {
        "cell_id": "00014-fa195760-a859-4672-bd64-7911ece3c703",
        "deepnote_cell_type": "code",
        "tags": [],
        "colab": {
          "base_uri": "https://localhost:8080/",
          "height": 629
        },
        "id": "5gCInUmY93v2",
        "outputId": "c11dd171-ee82-46ef-f064-a054f93df7f7"
      },
      "outputs": [
        {
          "output_type": "stream",
          "name": "stdout",
          "text": [
            "10\n",
            "Epoch 1/10\n",
            "300/300 - 1s - loss: 1.4899 - accuracy: 0.6381 - 1s/epoch - 4ms/step\n",
            "Epoch 2/10\n",
            "300/300 - 1s - loss: 0.8627 - accuracy: 0.8196 - 841ms/epoch - 3ms/step\n",
            "Epoch 3/10\n",
            "300/300 - 1s - loss: 0.6917 - accuracy: 0.8429 - 867ms/epoch - 3ms/step\n",
            "Epoch 4/10\n",
            "300/300 - 1s - loss: 0.6090 - accuracy: 0.8550 - 768ms/epoch - 3ms/step\n",
            "Epoch 5/10\n",
            "300/300 - 1s - loss: 0.5587 - accuracy: 0.8634 - 774ms/epoch - 3ms/step\n",
            "Epoch 6/10\n",
            "300/300 - 1s - loss: 0.5243 - accuracy: 0.8688 - 799ms/epoch - 3ms/step\n",
            "Epoch 7/10\n",
            "300/300 - 1s - loss: 0.4989 - accuracy: 0.8736 - 789ms/epoch - 3ms/step\n",
            "Epoch 8/10\n",
            "300/300 - 1s - loss: 0.4792 - accuracy: 0.8765 - 804ms/epoch - 3ms/step\n",
            "Epoch 9/10\n",
            "300/300 - 1s - loss: 0.4634 - accuracy: 0.8796 - 798ms/epoch - 3ms/step\n",
            "Epoch 10/10\n",
            "300/300 - 1s - loss: 0.4503 - accuracy: 0.8825 - 785ms/epoch - 3ms/step\n"
          ]
        },
        {
          "output_type": "display_data",
          "data": {
            "text/plain": [
              "<Figure size 432x288 with 1 Axes>"
            ],
            "image/png": "[encoded data removed]"
          },
          "metadata": {
            "needs_background": "light"
          }
        }
      ],
      "source": [
        "dimX = np.shape(x_train)[1]\n",
        "dimY = np.shape(y_train)[1]\n",
        "print(dimY)\n",
        "input_layer = InputLayer(input_shape=(dimX,))\n",
        "output_layer = Dense(units=dimY, activation=\"softmax\")\n",
        "\n",
        "model = Sequential([\n",
        "    input_layer,\n",
        "    output_layer\n",
        "])\n",
        "\n",
        "model.compile(optimizer=\"sgd\", loss=\"categorical_crossentropy\", metrics=[\"accuracy\"])\n",
        "\n",
        "import matplotlib.pyplot as plt\n",
        "h=model.fit(x_train, y_train, verbose=2, epochs=10, batch_size=200)\n",
        "\n",
        "plt.plot(h.history[\"accuracy\"])\n",
        "plt.show()"
      ]
    },
    {
      "cell_type": "markdown",
      "metadata": {
        "cell_id": "00018-cfad4bc9-a1de-43a4-bb43-d74840d9869d",
        "deepnote_cell_type": "markdown",
        "id": "6SGA-CdS0vwW"
      },
      "source": [
        "**Question #4.** Compare performance (in terms of training accuracy, we will come back to better ways to compare models afterwards) of this logistic regression model with that of a neural network with respectively 1, 2, and 3 hidden layers of 128 neurons each.\n",
        "You will use the `\"relu\"` activation function for hidden layers."
      ]
    },
    {
      "cell_type": "code",
      "execution_count": 10,
      "metadata": {
        "cell_id": "00016-667b31d2-ee2e-4a34-9a88-33c19a38522a",
        "deepnote_cell_type": "code",
        "deepnote_to_be_reexecuted": true,
        "source_hash": "b623e53d",
        "tags": [],
        "colab": {
          "base_uri": "https://localhost:8080/"
        },
        "id": "-wvYC2vc93v2",
        "outputId": "12595a05-5bd2-433c-87d7-5b69eab02ff5"
      },
      "outputs": [
        {
          "output_type": "stream",
          "name": "stdout",
          "text": [
            "------------- Model 1 ----------------\n",
            "Epoch 1/10\n",
            "300/300 - 2s - loss: 1.3688 - accuracy: 0.6705 - 2s/epoch - 6ms/step\n",
            "Epoch 2/10\n",
            "300/300 - 1s - loss: 0.6831 - accuracy: 0.8440 - 1s/epoch - 4ms/step\n",
            "Epoch 3/10\n",
            "300/300 - 2s - loss: 0.5236 - accuracy: 0.8688 - 2s/epoch - 6ms/step\n",
            "Epoch 4/10\n",
            "300/300 - 2s - loss: 0.4545 - accuracy: 0.8811 - 2s/epoch - 8ms/step\n",
            "Epoch 5/10\n",
            "300/300 - 2s - loss: 0.4146 - accuracy: 0.8888 - 2s/epoch - 7ms/step\n",
            "Epoch 6/10\n",
            "300/300 - 2s - loss: 0.3880 - accuracy: 0.8937 - 2s/epoch - 6ms/step\n",
            "Epoch 7/10\n",
            "300/300 - 2s - loss: 0.3684 - accuracy: 0.8981 - 2s/epoch - 7ms/step\n",
            "Epoch 8/10\n",
            "300/300 - 1s - loss: 0.3531 - accuracy: 0.9014 - 1s/epoch - 4ms/step\n",
            "Epoch 9/10\n",
            "300/300 - 1s - loss: 0.3405 - accuracy: 0.9046 - 1s/epoch - 4ms/step\n",
            "Epoch 10/10\n",
            "300/300 - 1s - loss: 0.3300 - accuracy: 0.9079 - 1s/epoch - 4ms/step\n",
            "------------- Model 2 ----------------\n",
            "Epoch 1/10\n",
            "300/300 - 2s - loss: 1.5702 - accuracy: 0.6105 - 2s/epoch - 7ms/step\n",
            "Epoch 2/10\n",
            "300/300 - 2s - loss: 0.6704 - accuracy: 0.8432 - 2s/epoch - 5ms/step\n",
            "Epoch 3/10\n",
            "300/300 - 2s - loss: 0.4708 - accuracy: 0.8783 - 2s/epoch - 5ms/step\n",
            "Epoch 4/10\n",
            "300/300 - 2s - loss: 0.3997 - accuracy: 0.8928 - 2s/epoch - 5ms/step\n",
            "Epoch 5/10\n",
            "300/300 - 2s - loss: 0.3620 - accuracy: 0.8998 - 2s/epoch - 5ms/step\n",
            "Epoch 6/10\n",
            "300/300 - 2s - loss: 0.3371 - accuracy: 0.9053 - 2s/epoch - 5ms/step\n",
            "Epoch 7/10\n",
            "300/300 - 2s - loss: 0.3188 - accuracy: 0.9101 - 2s/epoch - 5ms/step\n",
            "Epoch 8/10\n",
            "300/300 - 2s - loss: 0.3043 - accuracy: 0.9140 - 2s/epoch - 5ms/step\n",
            "Epoch 9/10\n",
            "300/300 - 2s - loss: 0.2918 - accuracy: 0.9171 - 2s/epoch - 5ms/step\n",
            "Epoch 10/10\n",
            "300/300 - 2s - loss: 0.2812 - accuracy: 0.9196 - 2s/epoch - 5ms/step\n",
            "------------- Model 3 ----------------\n",
            "Epoch 1/10\n",
            "300/300 - 2s - loss: 1.7596 - accuracy: 0.5536 - 2s/epoch - 8ms/step\n",
            "Epoch 2/10\n",
            "300/300 - 2s - loss: 0.6805 - accuracy: 0.8290 - 2s/epoch - 6ms/step\n",
            "Epoch 3/10\n",
            "300/300 - 2s - loss: 0.4561 - accuracy: 0.8749 - 2s/epoch - 6ms/step\n",
            "Epoch 4/10\n",
            "300/300 - 2s - loss: 0.3823 - accuracy: 0.8931 - 2s/epoch - 6ms/step\n",
            "Epoch 5/10\n",
            "300/300 - 2s - loss: 0.3430 - accuracy: 0.9023 - 2s/epoch - 6ms/step\n",
            "Epoch 6/10\n",
            "300/300 - 2s - loss: 0.3169 - accuracy: 0.9097 - 2s/epoch - 6ms/step\n",
            "Epoch 7/10\n",
            "300/300 - 2s - loss: 0.2976 - accuracy: 0.9147 - 2s/epoch - 6ms/step\n",
            "Epoch 8/10\n",
            "300/300 - 2s - loss: 0.2820 - accuracy: 0.9188 - 2s/epoch - 6ms/step\n",
            "Epoch 9/10\n",
            "300/300 - 2s - loss: 0.2690 - accuracy: 0.9223 - 2s/epoch - 6ms/step\n",
            "Epoch 10/10\n",
            "300/300 - 2s - loss: 0.2575 - accuracy: 0.9253 - 2s/epoch - 6ms/step\n"
          ]
        },
        {
          "output_type": "execute_result",
          "data": {
            "text/plain": [
              "<keras.callbacks.History at 0x7f03c4ce9510>"
            ]
          },
          "metadata": {},
          "execution_count": 10
        }
      ],
      "source": [
        "input_layer = InputLayer(input_shape=(dimX,))\n",
        "output_layer = Dense(units=dimY, activation=\"softmax\")\n",
        "hidden_layer1 = Dense(units=128, activation=\"relu\")\n",
        "hidden_layer2 = Dense(units=128, activation=\"relu\")\n",
        "hidden_layer3 = Dense(units=128, activation=\"relu\")\n",
        "\n",
        "model1 = Sequential([\n",
        "    InputLayer(input_shape=(dimX,)),\n",
        "    Dense(units=128, activation=\"relu\"),\n",
        "    Dense(units=dimY, activation=\"softmax\")\n",
        "])\n",
        "model1.compile(optimizer=\"sgd\", loss=\"categorical_crossentropy\", metrics=[\"accuracy\"])\n",
        "\n",
        "print(\"------------- Model 1 ----------------\")\n",
        "model1.fit(x_train, y_train, verbose=2, epochs=10, batch_size=200)\n",
        "\n",
        "model2 = Sequential([\n",
        "    InputLayer(input_shape=(dimX,)),\n",
        "    Dense(units=128, activation=\"relu\"),\n",
        "    Dense(units=128, activation=\"relu\"),\n",
        "    Dense(units=dimY, activation=\"softmax\")\n",
        "])\n",
        "model2.compile(optimizer=\"sgd\", loss=\"categorical_crossentropy\", metrics=[\"accuracy\"])\n",
        "print(\"------------- Model 2 ----------------\")\n",
        "\n",
        "model2.fit(x_train, y_train, verbose=2, epochs=10, batch_size=200)\n",
        "\n",
        "model3 = Sequential([\n",
        "    InputLayer(input_shape=(dimX,)),\n",
        "    Dense(units=128, activation=\"relu\"),\n",
        "    Dense(units=128, activation=\"relu\"),\n",
        "    Dense(units=128, activation=\"relu\"),\n",
        "    Dense(units=dimY, activation=\"softmax\")\n",
        "\n",
        "])\n",
        "model3.compile(optimizer=\"sgd\", loss=\"categorical_crossentropy\", metrics=[\"accuracy\"])\n",
        "print(\"------------- Model 3 ----------------\")\n",
        "\n",
        "model3.fit(x_train, y_train, verbose=2, epochs=10, batch_size=200)"
      ]
    },
    {
      "cell_type": "markdown",
      "metadata": {
        "cell_id": "00020-a024cc10-c7b4-4021-89d9-0ed7447b2b9e",
        "deepnote_cell_type": "markdown",
        "id": "tC9EB0vs363m"
      },
      "source": [
        "**Question #5.** `keras` models offer a `count_params()` method to get the number of parameters to be learned in the model. Use this facility to get the number of parameters of your 3-hidden-layer model and build a new one-hidden-layer model with an equivalent number of parameters. Compare performance of these two models with similar number of parameters."
      ]
    },
    {
      "cell_type": "code",
      "execution_count": 11,
      "metadata": {
        "cell_id": "00018-d3f7b59d-095f-43d8-903e-2b92eb43619f",
        "deepnote_cell_type": "code",
        "deepnote_to_be_reexecuted": true,
        "source_hash": "b623e53d",
        "tags": [],
        "colab": {
          "base_uri": "https://localhost:8080/"
        },
        "id": "3khNym-m93v3",
        "outputId": "a8df361c-a551-4b5c-84ab-cce076d2279a"
      },
      "outputs": [
        {
          "output_type": "stream",
          "name": "stdout",
          "text": [
            "101770\n",
            "118282\n"
          ]
        },
        {
          "output_type": "execute_result",
          "data": {
            "text/plain": [
              "134794"
            ]
          },
          "metadata": {},
          "execution_count": 11
        }
      ],
      "source": [
        "print(model1.count_params())\n",
        "print(model2.count_params())\n",
        "model3.count_params()"
      ]
    },
    {
      "cell_type": "code",
      "source": [
        "model3.summary()"
      ],
      "metadata": {
        "colab": {
          "base_uri": "https://localhost:8080/"
        },
        "id": "KivT4aTd6Evt",
        "outputId": "ff417d08-a162-4e25-d35f-7bc65b0d0e98"
      },
      "execution_count": 12,
      "outputs": [
        {
          "output_type": "stream",
          "name": "stdout",
          "text": [
            "Model: \"sequential_5\"\n",
            "_________________________________________________________________\n",
            " Layer (type)                Output Shape              Param #   \n",
            "=================================================================\n",
            " dense_14 (Dense)            (None, 128)               100480    \n",
            "                                                                 \n",
            " dense_15 (Dense)            (None, 128)               16512     \n",
            "                                                                 \n",
            " dense_16 (Dense)            (None, 128)               16512     \n",
            "                                                                 \n",
            " dense_17 (Dense)            (None, 10)                1290      \n",
            "                                                                 \n",
            "=================================================================\n",
            "Total params: 134,794\n",
            "Trainable params: 134,794\n",
            "Non-trainable params: 0\n",
            "_________________________________________________________________\n"
          ]
        }
      ]
    },
    {
      "cell_type": "markdown",
      "metadata": {
        "cell_id": "00024-1bdd65e7-515d-4064-882a-54c651abfd3d",
        "deepnote_cell_type": "markdown",
        "id": "iXxTGmUw5ppd"
      },
      "source": [
        "## A better way to compare models\n",
        "\n",
        "Comparing models based on training accuracy (resp. loss) is a \"great\" way to overfit your model to the training data.\n",
        "A better way to compare models is to use hold out data (aka validation set).\n",
        "\n",
        "To do so, `keras` allows to pass, at `fit` time, a fraction of the training data to be used as validation set. Have a look [there](https://www.tensorflow.org/guide/keras/train_and_evaluate#automatically_setting_apart_a_validation_holdout_set) for more details about how validation samples are selected.\n",
        "\n",
        "**Question #6.** Repeat model comparisons above (relying on validation scores) using 30% of training data as validation set."
      ]
    },
    {
      "cell_type": "code",
      "source": [
        "model3_bis = Sequential([\n",
        "    InputLayer(input_shape=x_train.shape[1:]),\n",
        "    Dense(units=128, activation=\"relu\"),\n",
        "    Dense(units=128, activation=\"relu\"),\n",
        "    Dense(units=128, activation=\"relu\"),\n",
        "    Dense(units=y_train.shape[1], activation=\"softmax\")\n",
        "])\n",
        "print(\"------------- Model 3 ----------------\")\n",
        "\n",
        "model3_bis.compile(loss=\"categorical_crossentropy\", optimizer=\"sgd\", metrics=[\"accuracy\"])\n",
        "model3_bis.fit(x_train, y_train, epochs=10, batch_size=100, verbose=2, validation_split=0.3)\n",
        "\n",
        "print(\"------------- Model 1 ----------------\")\n",
        "model1_bis = Sequential([\n",
        "    InputLayer(input_shape=x_train.shape[1:]),\n",
        "    Dense(units=128, activation=\"relu\"),\n",
        "    Dense(units=y_train.shape[1], activation=\"softmax\")\n",
        "])\n",
        "model1_bis.compile(loss=\"categorical_crossentropy\", optimizer=\"sgd\", metrics=[\"accuracy\"])\n",
        "model1_bis.fit(x_train, y_train, epochs=10, batch_size=100, verbose=2, validation_split=0.3)"
      ],
      "metadata": {
        "colab": {
          "base_uri": "https://localhost:8080/"
        },
        "id": "AZ-bypv2CEBj",
        "outputId": "976a1d00-9094-4aad-b0fd-84aa79c331e5"
      },
      "execution_count": 13,
      "outputs": [
        {
          "output_type": "stream",
          "name": "stdout",
          "text": [
            "------------- Model 3 ----------------\n",
            "Epoch 1/10\n",
            "420/420 - 3s - loss: 1.4555 - accuracy: 0.6154 - val_loss: 0.6783 - val_accuracy: 0.8283 - 3s/epoch - 7ms/step\n",
            "Epoch 2/10\n",
            "420/420 - 2s - loss: 0.5237 - accuracy: 0.8585 - val_loss: 0.4088 - val_accuracy: 0.8854 - 2s/epoch - 5ms/step\n",
            "Epoch 3/10\n",
            "420/420 - 2s - loss: 0.3822 - accuracy: 0.8929 - val_loss: 0.3459 - val_accuracy: 0.8999 - 2s/epoch - 6ms/step\n",
            "Epoch 4/10\n",
            "420/420 - 2s - loss: 0.3298 - accuracy: 0.9063 - val_loss: 0.3072 - val_accuracy: 0.9103 - 2s/epoch - 5ms/step\n",
            "Epoch 5/10\n",
            "420/420 - 2s - loss: 0.2984 - accuracy: 0.9145 - val_loss: 0.2863 - val_accuracy: 0.9169 - 2s/epoch - 6ms/step\n",
            "Epoch 6/10\n",
            "420/420 - 2s - loss: 0.2763 - accuracy: 0.9212 - val_loss: 0.2709 - val_accuracy: 0.9201 - 2s/epoch - 6ms/step\n",
            "Epoch 7/10\n",
            "420/420 - 2s - loss: 0.2586 - accuracy: 0.9260 - val_loss: 0.2577 - val_accuracy: 0.9252 - 2s/epoch - 5ms/step\n",
            "Epoch 8/10\n",
            "420/420 - 2s - loss: 0.2434 - accuracy: 0.9298 - val_loss: 0.2454 - val_accuracy: 0.9289 - 2s/epoch - 6ms/step\n",
            "Epoch 9/10\n",
            "420/420 - 2s - loss: 0.2299 - accuracy: 0.9334 - val_loss: 0.2389 - val_accuracy: 0.9299 - 2s/epoch - 6ms/step\n",
            "Epoch 10/10\n",
            "420/420 - 2s - loss: 0.2184 - accuracy: 0.9375 - val_loss: 0.2256 - val_accuracy: 0.9345 - 2s/epoch - 5ms/step\n",
            "------------- Model 1 ----------------\n",
            "Epoch 1/10\n",
            "420/420 - 2s - loss: 1.2557 - accuracy: 0.6985 - val_loss: 0.7006 - val_accuracy: 0.8472 - 2s/epoch - 5ms/step\n",
            "Epoch 2/10\n",
            "420/420 - 2s - loss: 0.5920 - accuracy: 0.8556 - val_loss: 0.4905 - val_accuracy: 0.8747 - 2s/epoch - 4ms/step\n",
            "Epoch 3/10\n",
            "420/420 - 2s - loss: 0.4645 - accuracy: 0.8784 - val_loss: 0.4198 - val_accuracy: 0.8885 - 2s/epoch - 5ms/step\n",
            "Epoch 4/10\n",
            "420/420 - 2s - loss: 0.4089 - accuracy: 0.8890 - val_loss: 0.3835 - val_accuracy: 0.8947 - 2s/epoch - 4ms/step\n",
            "Epoch 5/10\n",
            "420/420 - 2s - loss: 0.3763 - accuracy: 0.8960 - val_loss: 0.3575 - val_accuracy: 0.8999 - 2s/epoch - 5ms/step\n",
            "Epoch 6/10\n",
            "420/420 - 2s - loss: 0.3539 - accuracy: 0.9014 - val_loss: 0.3405 - val_accuracy: 0.9049 - 2s/epoch - 5ms/step\n",
            "Epoch 7/10\n",
            "420/420 - 2s - loss: 0.3366 - accuracy: 0.9058 - val_loss: 0.3275 - val_accuracy: 0.9095 - 2s/epoch - 4ms/step\n",
            "Epoch 8/10\n",
            "420/420 - 2s - loss: 0.3226 - accuracy: 0.9093 - val_loss: 0.3170 - val_accuracy: 0.9120 - 2s/epoch - 4ms/step\n",
            "Epoch 9/10\n",
            "420/420 - 2s - loss: 0.3112 - accuracy: 0.9123 - val_loss: 0.3067 - val_accuracy: 0.9140 - 2s/epoch - 4ms/step\n",
            "Epoch 10/10\n",
            "420/420 - 2s - loss: 0.3011 - accuracy: 0.9147 - val_loss: 0.2984 - val_accuracy: 0.9173 - 2s/epoch - 4ms/step\n"
          ]
        },
        {
          "output_type": "execute_result",
          "data": {
            "text/plain": [
              "<keras.callbacks.History at 0x7f03c4b88210>"
            ]
          },
          "metadata": {},
          "execution_count": 13
        }
      ]
    },
    {
      "cell_type": "markdown",
      "metadata": {
        "cell_id": "00026-77f877a8-a870-4358-a389-6435fd380c88",
        "deepnote_cell_type": "markdown",
        "id": "WehjG92yDMcN"
      },
      "source": [
        "## Optimizers and learning rate\n",
        "\n",
        "**Question #7.** Change the optimizer used for your model. Use an optimizer with momentum and adaptive learning rate."
      ]
    },
    {
      "cell_type": "code",
      "execution_count": 14,
      "metadata": {
        "cell_id": "00021-8889ee1e-48b4-4783-b8e9-fb42783d8d39",
        "deepnote_cell_type": "code",
        "deepnote_to_be_reexecuted": true,
        "source_hash": "b623e53d",
        "tags": [],
        "id": "kOHeYSFC93v4",
        "colab": {
          "base_uri": "https://localhost:8080/"
        },
        "outputId": "479fc319-ad88-417c-ce57-37af570bfc57"
      },
      "outputs": [
        {
          "output_type": "stream",
          "name": "stdout",
          "text": [
            "------------- Model 3 ----------------\n",
            "Epoch 1/10\n",
            "420/420 - 3s - loss: 0.3384 - accuracy: 0.9022 - val_loss: 0.1792 - val_accuracy: 0.9458 - 3s/epoch - 8ms/step\n",
            "Epoch 2/10\n",
            "420/420 - 3s - loss: 0.1308 - accuracy: 0.9610 - val_loss: 0.1254 - val_accuracy: 0.9622 - 3s/epoch - 6ms/step\n",
            "Epoch 3/10\n",
            "420/420 - 3s - loss: 0.0874 - accuracy: 0.9732 - val_loss: 0.1180 - val_accuracy: 0.9645 - 3s/epoch - 6ms/step\n",
            "Epoch 4/10\n",
            "420/420 - 3s - loss: 0.0632 - accuracy: 0.9805 - val_loss: 0.1019 - val_accuracy: 0.9693 - 3s/epoch - 6ms/step\n",
            "Epoch 5/10\n",
            "420/420 - 2s - loss: 0.0500 - accuracy: 0.9841 - val_loss: 0.1295 - val_accuracy: 0.9624 - 2s/epoch - 6ms/step\n",
            "Epoch 6/10\n",
            "420/420 - 2s - loss: 0.0377 - accuracy: 0.9881 - val_loss: 0.1006 - val_accuracy: 0.9728 - 2s/epoch - 6ms/step\n",
            "Epoch 7/10\n",
            "420/420 - 2s - loss: 0.0293 - accuracy: 0.9907 - val_loss: 0.1127 - val_accuracy: 0.9706 - 2s/epoch - 6ms/step\n",
            "Epoch 8/10\n",
            "420/420 - 2s - loss: 0.0272 - accuracy: 0.9912 - val_loss: 0.0983 - val_accuracy: 0.9743 - 2s/epoch - 5ms/step\n",
            "Epoch 9/10\n",
            "420/420 - 2s - loss: 0.0219 - accuracy: 0.9929 - val_loss: 0.1081 - val_accuracy: 0.9718 - 2s/epoch - 5ms/step\n",
            "Epoch 10/10\n",
            "420/420 - 3s - loss: 0.0227 - accuracy: 0.9923 - val_loss: 0.1151 - val_accuracy: 0.9721 - 3s/epoch - 6ms/step\n",
            "------------- Model 1 ----------------\n",
            "Epoch 1/10\n",
            "420/420 - 3s - loss: 0.3924 - accuracy: 0.8925 - val_loss: 0.2205 - val_accuracy: 0.9376 - 3s/epoch - 6ms/step\n",
            "Epoch 2/10\n",
            "420/420 - 2s - loss: 0.1782 - accuracy: 0.9492 - val_loss: 0.1607 - val_accuracy: 0.9559 - 2s/epoch - 4ms/step\n",
            "Epoch 3/10\n",
            "420/420 - 2s - loss: 0.1274 - accuracy: 0.9630 - val_loss: 0.1354 - val_accuracy: 0.9613 - 2s/epoch - 5ms/step\n",
            "Epoch 4/10\n",
            "420/420 - 2s - loss: 0.0983 - accuracy: 0.9720 - val_loss: 0.1203 - val_accuracy: 0.9647 - 2s/epoch - 4ms/step\n",
            "Epoch 5/10\n",
            "420/420 - 2s - loss: 0.0787 - accuracy: 0.9778 - val_loss: 0.1125 - val_accuracy: 0.9664 - 2s/epoch - 4ms/step\n",
            "Epoch 6/10\n",
            "420/420 - 2s - loss: 0.0648 - accuracy: 0.9816 - val_loss: 0.1075 - val_accuracy: 0.9684 - 2s/epoch - 5ms/step\n",
            "Epoch 7/10\n",
            "420/420 - 2s - loss: 0.0525 - accuracy: 0.9855 - val_loss: 0.1018 - val_accuracy: 0.9701 - 2s/epoch - 5ms/step\n",
            "Epoch 8/10\n",
            "420/420 - 2s - loss: 0.0434 - accuracy: 0.9885 - val_loss: 0.0999 - val_accuracy: 0.9714 - 2s/epoch - 5ms/step\n",
            "Epoch 9/10\n",
            "420/420 - 2s - loss: 0.0370 - accuracy: 0.9905 - val_loss: 0.0949 - val_accuracy: 0.9723 - 2s/epoch - 5ms/step\n",
            "Epoch 10/10\n",
            "420/420 - 2s - loss: 0.0305 - accuracy: 0.9923 - val_loss: 0.0967 - val_accuracy: 0.9719 - 2s/epoch - 5ms/step\n"
          ]
        },
        {
          "output_type": "execute_result",
          "data": {
            "text/plain": [
              "<keras.callbacks.History at 0x7f03c1fd7a50>"
            ]
          },
          "metadata": {},
          "execution_count": 14
        }
      ],
      "source": [
        "model3_bis = Sequential([\n",
        "    InputLayer(input_shape=x_train.shape[1:]),\n",
        "    Dense(units=128, activation=\"relu\"),\n",
        "    Dense(units=128, activation=\"relu\"),\n",
        "    Dense(units=128, activation=\"relu\"),\n",
        "    Dense(units=y_train.shape[1], activation=\"softmax\")\n",
        "])\n",
        "print(\"------------- Model 3 ----------------\")\n",
        "\n",
        "model3_bis.compile(loss=\"categorical_crossentropy\", optimizer=\"adam\", metrics=[\"accuracy\"])\n",
        "model3_bis.fit(x_train, y_train, epochs=10, batch_size=100, verbose=2, validation_split=0.3)\n",
        "\n",
        "print(\"------------- Model 1 ----------------\")\n",
        "model1_bis = Sequential([\n",
        "    InputLayer(input_shape=x_train.shape[1:]),\n",
        "    Dense(units=128, activation=\"relu\"),\n",
        "    Dense(units=y_train.shape[1], activation=\"softmax\")\n",
        "])\n",
        "model1_bis.compile(loss=\"categorical_crossentropy\", optimizer=\"adam\", metrics=[\"accuracy\"])\n",
        "model1_bis.fit(x_train, y_train, epochs=10, batch_size=100, verbose=2, validation_split=0.3)"
      ]
    },
    {
      "cell_type": "markdown",
      "metadata": {
        "cell_id": "00028-47912783-f891-416d-9e9d-05d57a819e7c",
        "deepnote_cell_type": "markdown",
        "id": "ot8jiQHuEZxr"
      },
      "source": [
        "**Question #8.** Using [the docs](https://www.tensorflow.org/api_docs/python/tf/keras/optimizers), vary the learning rate of your optimizer from a very low value to a much larger one so as to show evidence of:\n",
        "* instability when the learning rate is too large;\n",
        "* slow convergence when the learning rate is too low."
      ]
    },
    {
      "cell_type": "code",
      "execution_count": 15,
      "metadata": {
        "cell_id": "00029-16623cf9-4788-418c-8696-9e61bfe444fb",
        "deepnote_cell_type": "code",
        "deepnote_to_be_reexecuted": true,
        "execution_millis": 38776,
        "id": "pZfwWRDPEa1g",
        "output_cleared": true,
        "source_hash": "b623e53d",
        "colab": {
          "base_uri": "https://localhost:8080/",
          "height": 629
        },
        "outputId": "684d8294-3ed6-466e-d884-97c73185951e"
      },
      "outputs": [
        {
          "output_type": "stream",
          "name": "stdout",
          "text": [
            "------------- Model ----------------\n",
            "Epoch 1/10\n",
            "420/420 - 3s - loss: 162557.8281 - accuracy: 0.1021 - val_loss: 21677.3066 - val_accuracy: 0.1005 - 3s/epoch - 8ms/step\n",
            "Epoch 2/10\n",
            "420/420 - 2s - loss: 6879.2783 - accuracy: 0.1017 - val_loss: 2.4184 - val_accuracy: 0.0966 - 2s/epoch - 6ms/step\n",
            "Epoch 3/10\n",
            "420/420 - 2s - loss: 747.6347 - accuracy: 0.1030 - val_loss: 2.3635 - val_accuracy: 0.0909 - 2s/epoch - 6ms/step\n",
            "Epoch 4/10\n",
            "420/420 - 3s - loss: 2.4140 - accuracy: 0.0991 - val_loss: 2.3568 - val_accuracy: 0.0966 - 3s/epoch - 6ms/step\n",
            "Epoch 5/10\n",
            "420/420 - 3s - loss: 2.4191 - accuracy: 0.1010 - val_loss: 2.5562 - val_accuracy: 0.1006 - 3s/epoch - 6ms/step\n",
            "Epoch 6/10\n",
            "420/420 - 3s - loss: 2.4338 - accuracy: 0.1001 - val_loss: 2.3758 - val_accuracy: 0.0989 - 3s/epoch - 6ms/step\n",
            "Epoch 7/10\n",
            "420/420 - 3s - loss: 2.4222 - accuracy: 0.1032 - val_loss: 2.5151 - val_accuracy: 0.1006 - 3s/epoch - 6ms/step\n",
            "Epoch 8/10\n",
            "420/420 - 3s - loss: 2.4272 - accuracy: 0.1006 - val_loss: 2.3825 - val_accuracy: 0.0989 - 3s/epoch - 6ms/step\n",
            "Epoch 9/10\n",
            "420/420 - 3s - loss: 2.4398 - accuracy: 0.1015 - val_loss: 2.3533 - val_accuracy: 0.1079 - 3s/epoch - 6ms/step\n",
            "Epoch 10/10\n",
            "420/420 - 3s - loss: 2.4543 - accuracy: 0.0999 - val_loss: 2.5362 - val_accuracy: 0.1079 - 3s/epoch - 6ms/step\n"
          ]
        },
        {
          "output_type": "display_data",
          "data": {
            "text/plain": [
              "<Figure size 432x288 with 1 Axes>"
            ],
            "image/png": "[encoded data removed]"
          },
          "metadata": {
            "needs_background": "light"
          }
        }
      ],
      "source": [
        "model = Sequential([\n",
        "    InputLayer(input_shape=x_train.shape[1:]),\n",
        "    Dense(units=128, activation=\"relu\"),\n",
        "    Dense(units=128, activation=\"relu\"),\n",
        "    Dense(units=128, activation=\"relu\"),\n",
        "    Dense(units=y_train.shape[1], activation=\"softmax\")\n",
        "])\n",
        "print(\"------------- Model ----------------\")\n",
        "\n",
        "import tensorflow as tf\n",
        "\n",
        "model.compile(loss=\"categorical_crossentropy\", optimizer=tf.keras.optimizers.Adam(learning_rate=3), metrics=[\"accuracy\"])\n",
        "h=model.fit(x_train, y_train, epochs=10, batch_size=100, verbose=2, validation_split=0.3)\n",
        "plt.plot(h.history[\"accuracy\"])\n",
        "plt.show()"
      ]
    },
    {
      "cell_type": "code",
      "source": [
        "model = Sequential([\n",
        "    InputLayer(input_shape=x_train.shape[1:]),\n",
        "    Dense(units=128, activation=\"relu\"),\n",
        "    Dense(units=128, activation=\"relu\"),\n",
        "    Dense(units=128, activation=\"relu\"),\n",
        "    Dense(units=y_train.shape[1], activation=\"softmax\")\n",
        "])\n",
        "print(\"------------- Model ----------------\")\n",
        "\n",
        "import tensorflow as tf\n",
        "\n",
        "model.compile(loss=\"categorical_crossentropy\", optimizer=tf.keras.optimizers.Adam(learning_rate=0.00001), metrics=[\"accuracy\"])\n",
        "h=model.fit(x_train, y_train, epochs=10, batch_size=100, verbose=2, validation_split=0.3)\n",
        "plt.plot(h.history[\"accuracy\"])\n",
        "plt.show()"
      ],
      "metadata": {
        "colab": {
          "base_uri": "https://localhost:8080/",
          "height": 629
        },
        "id": "m9AqkNaSGXU4",
        "outputId": "dc50a771-a9cd-469c-d849-45d0e7144b5d"
      },
      "execution_count": 16,
      "outputs": [
        {
          "output_type": "stream",
          "name": "stdout",
          "text": [
            "------------- Model ----------------\n",
            "Epoch 1/10\n",
            "420/420 - 3s - loss: 2.1509 - accuracy: 0.2972 - val_loss: 1.9592 - val_accuracy: 0.5897 - 3s/epoch - 8ms/step\n",
            "Epoch 2/10\n",
            "420/420 - 2s - loss: 1.6893 - accuracy: 0.6855 - val_loss: 1.3873 - val_accuracy: 0.7443 - 2s/epoch - 6ms/step\n",
            "Epoch 3/10\n",
            "420/420 - 2s - loss: 1.1492 - accuracy: 0.7666 - val_loss: 0.9372 - val_accuracy: 0.8036 - 2s/epoch - 5ms/step\n",
            "Epoch 4/10\n",
            "420/420 - 3s - loss: 0.8188 - accuracy: 0.8215 - val_loss: 0.6995 - val_accuracy: 0.8476 - 3s/epoch - 6ms/step\n",
            "Epoch 5/10\n",
            "420/420 - 4s - loss: 0.6433 - accuracy: 0.8515 - val_loss: 0.5714 - val_accuracy: 0.8664 - 4s/epoch - 9ms/step\n",
            "Epoch 6/10\n",
            "420/420 - 2s - loss: 0.5426 - accuracy: 0.8677 - val_loss: 0.4942 - val_accuracy: 0.8787 - 2s/epoch - 6ms/step\n",
            "Epoch 7/10\n",
            "420/420 - 2s - loss: 0.4783 - accuracy: 0.8801 - val_loss: 0.4434 - val_accuracy: 0.8862 - 2s/epoch - 6ms/step\n",
            "Epoch 8/10\n",
            "420/420 - 3s - loss: 0.4345 - accuracy: 0.8874 - val_loss: 0.4082 - val_accuracy: 0.8930 - 3s/epoch - 6ms/step\n",
            "Epoch 9/10\n",
            "420/420 - 3s - loss: 0.4024 - accuracy: 0.8943 - val_loss: 0.3820 - val_accuracy: 0.8965 - 3s/epoch - 6ms/step\n",
            "Epoch 10/10\n",
            "420/420 - 2s - loss: 0.3780 - accuracy: 0.8993 - val_loss: 0.3617 - val_accuracy: 0.9016 - 2s/epoch - 6ms/step\n"
          ]
        },
        {
          "output_type": "display_data",
          "data": {
            "text/plain": [
              "<Figure size 432x288 with 1 Axes>"
            ],
            "image/png": "[encoded data removed]"
          },
          "metadata": {
            "needs_background": "light"
          }
        }
      ]
    },
    {
      "cell_type": "markdown",
      "metadata": {
        "cell_id": "00030-f3edc3e5-83b2-4417-99c0-ce99030af441",
        "deepnote_cell_type": "markdown",
        "id": "tyCzy_PNEqwE"
      },
      "source": [
        "## Callbacks\n",
        "\n",
        "Callbacks are tools that, in `keras`, allow one to intervene during the training process of a model. \n",
        "Callbacks can be used to take actions (_ie._ save intermediate model, stop optimization if overfitting occurs, _etc._).\n",
        "\n",
        "A first callback one can play with is the one returned by any call to `fit` on a `keras` model.\n",
        "This callback is an object with an `.history` attribute in the form of a Python dictionnary whose keys are the metrics recorded during training. Each of these keys links to an array containing the consecutive values of the considered quantity (one value per epoch).\n",
        "\n",
        "**Question #9.** Plot correct classification rates on both training and validation sets."
      ]
    },
    {
      "cell_type": "code",
      "execution_count": 17,
      "metadata": {
        "cell_id": "00031-a30d0556-649b-490f-8b57-f0ac45eb245a",
        "deepnote_cell_type": "code",
        "deepnote_to_be_reexecuted": true,
        "execution_millis": 67,
        "id": "qA-RPKzaI4-s",
        "output_cleared": true,
        "source_hash": "b623e53d",
        "colab": {
          "base_uri": "https://localhost:8080/"
        },
        "outputId": "ea722508-7440-419e-ef1e-0921ce1e12e4"
      },
      "outputs": [
        {
          "output_type": "stream",
          "name": "stdout",
          "text": [
            "------------- Model ----------------\n",
            "Epoch 1/10\n",
            "420/420 - 4s - loss: 0.3331 - accuracy: 0.9049 - val_loss: 0.1704 - val_accuracy: 0.9504 - 4s/epoch - 9ms/step\n",
            "Epoch 2/10\n",
            "420/420 - 3s - loss: 0.1270 - accuracy: 0.9624 - val_loss: 0.1416 - val_accuracy: 0.9585 - 3s/epoch - 6ms/step\n",
            "Epoch 3/10\n",
            "420/420 - 3s - loss: 0.0886 - accuracy: 0.9724 - val_loss: 0.1121 - val_accuracy: 0.9665 - 3s/epoch - 6ms/step\n",
            "Epoch 4/10\n",
            "420/420 - 3s - loss: 0.0643 - accuracy: 0.9800 - val_loss: 0.1178 - val_accuracy: 0.9669 - 3s/epoch - 6ms/step\n",
            "Epoch 5/10\n",
            "420/420 - 3s - loss: 0.0496 - accuracy: 0.9835 - val_loss: 0.1151 - val_accuracy: 0.9687 - 3s/epoch - 7ms/step\n",
            "Epoch 6/10\n",
            "420/420 - 3s - loss: 0.0387 - accuracy: 0.9875 - val_loss: 0.1066 - val_accuracy: 0.9707 - 3s/epoch - 7ms/step\n",
            "Epoch 7/10\n",
            "420/420 - 3s - loss: 0.0302 - accuracy: 0.9908 - val_loss: 0.1220 - val_accuracy: 0.9683 - 3s/epoch - 7ms/step\n",
            "Epoch 8/10\n",
            "420/420 - 2s - loss: 0.0252 - accuracy: 0.9919 - val_loss: 0.1245 - val_accuracy: 0.9688 - 2s/epoch - 6ms/step\n",
            "Epoch 9/10\n",
            "420/420 - 3s - loss: 0.0240 - accuracy: 0.9917 - val_loss: 0.1335 - val_accuracy: 0.9693 - 3s/epoch - 6ms/step\n",
            "Epoch 10/10\n",
            "420/420 - 2s - loss: 0.0216 - accuracy: 0.9928 - val_loss: 0.1356 - val_accuracy: 0.9688 - 2s/epoch - 6ms/step\n"
          ]
        }
      ],
      "source": [
        "model = Sequential([\n",
        "    InputLayer(input_shape=x_train.shape[1:]),\n",
        "    Dense(units=128, activation=\"relu\"),\n",
        "    Dense(units=128, activation=\"relu\"),\n",
        "    Dense(units=128, activation=\"relu\"),\n",
        "    Dense(units=y_train.shape[1], activation=\"softmax\")\n",
        "])\n",
        "print(\"------------- Model ----------------\")\n",
        "\n",
        "import tensorflow as tf\n",
        "\n",
        "model.compile(loss=\"categorical_crossentropy\", optimizer=tf.keras.optimizers.Adam(learning_rate=0.001), metrics=[\"accuracy\"])\n",
        "h=model.fit(x_train, y_train, epochs=10, batch_size=100, verbose=2, validation_split=0.3)\n"
      ]
    },
    {
      "cell_type": "code",
      "source": [
        "plt.plot(h.history[\"accuracy\"], label=\"train\")\n",
        "plt.plot(h.history[\"val_accuracy\"], label=\"val\")\n",
        "plt.legend()\n",
        "plt.show()\n"
      ],
      "metadata": {
        "colab": {
          "base_uri": "https://localhost:8080/",
          "height": 265
        },
        "id": "gJ7PakYdJp_g",
        "outputId": "1e00c0b5-6e1d-4ea8-b3f4-382ace9dc7f2"
      },
      "execution_count": 18,
      "outputs": [
        {
          "output_type": "display_data",
          "data": {
            "text/plain": [
              "<Figure size 432x288 with 1 Axes>"
            ],
            "image/png": "[encoded data removed]"
          },
          "metadata": {
            "needs_background": "light"
          }
        }
      ]
    },
    {
      "cell_type": "code",
      "source": [
        "plt.plot(h.history[\"loss\"], label=\"train\")\n",
        "plt.plot(h.history[\"val_loss\"], label=\"val\")\n",
        "plt.legend()\n",
        "plt.show()"
      ],
      "metadata": {
        "colab": {
          "base_uri": "https://localhost:8080/",
          "height": 265
        },
        "id": "zwYcKBnmJ5AB",
        "outputId": "739b5856-16c0-42fc-fe27-161cc9f5f32b"
      },
      "execution_count": 19,
      "outputs": [
        {
          "output_type": "display_data",
          "data": {
            "text/plain": [
              "<Figure size 432x288 with 1 Axes>"
            ],
            "image/png": "[encoded data removed]"
          },
          "metadata": {
            "needs_background": "light"
          }
        }
      ]
    },
    {
      "cell_type": "code",
      "source": [
        "print(h.history)"
      ],
      "metadata": {
        "colab": {
          "base_uri": "https://localhost:8080/"
        },
        "id": "e62VERcgI27e",
        "outputId": "fa058d66-e95e-47f7-abdc-4d263a3a1c74"
      },
      "execution_count": 20,
      "outputs": [
        {
          "output_type": "stream",
          "name": "stdout",
          "text": [
            "{'loss': [0.3331272304058075, 0.12697984278202057, 0.08862686902284622, 0.06426150351762772, 0.04957405477762222, 0.03869504854083061, 0.030237827450037003, 0.025196149945259094, 0.02404431253671646, 0.021585147827863693], 'accuracy': [0.9048571586608887, 0.9623571634292603, 0.9724047780036926, 0.9800238013267517, 0.9835237860679626, 0.987500011920929, 0.9908095002174377, 0.9919047355651855, 0.9917380809783936, 0.9927619099617004], 'val_loss': [0.17043669521808624, 0.141614630818367, 0.11209223419427872, 0.11780025064945221, 0.11512365937232971, 0.10658016800880432, 0.1219746395945549, 0.12445566058158875, 0.13349266350269318, 0.1355777382850647], 'val_accuracy': [0.9504444599151611, 0.9585000276565552, 0.9664999842643738, 0.9669444561004639, 0.968666672706604, 0.9706666469573975, 0.9682777523994446, 0.9687777757644653, 0.9693333506584167, 0.9687777757644653]}\n"
          ]
        }
      ]
    },
    {
      "cell_type": "markdown",
      "metadata": {
        "cell_id": "00032-0b2aa348-08ef-45f0-8984-70863c338c77",
        "deepnote_cell_type": "markdown",
        "id": "l9y1at8qI5cO"
      },
      "source": [
        "Setting up other callbacks must be explicit. This is done by passing a list of callbacks to the `fit` method.\n",
        "\n",
        "When training a model is long, one can wish to record intermediate models (in case of a crash during training, or just for cases when intermediate models were performing better than the final one).\n",
        "The [`ModelCheckpoint`](https://www.tensorflow.org/api_docs/python/tf/keras/callbacks/ModelCheckpoint) callback is designed for that purpose.\n",
        "\n",
        "**Question #10.** Set up recording of intermediate models every epoch. Save the models into a dedicated file `model.hdf5` on your Deepnote project. Only record models if validation loss is lower than for all previous models."
      ]
    },
    {
      "cell_type": "code",
      "execution_count": 30,
      "metadata": {
        "cell_id": "00027-fc377b2f-fe5b-4d0e-94b4-faa235dae4bc",
        "deepnote_cell_type": "code",
        "deepnote_to_be_reexecuted": true,
        "source_hash": "b623e53d",
        "tags": [],
        "id": "BqfWRG-I93v6",
        "colab": {
          "base_uri": "https://localhost:8080/"
        },
        "outputId": "a546a91d-5fd1-4a59-a744-7b7c50d49f2b"
      },
      "outputs": [
        {
          "output_type": "stream",
          "name": "stdout",
          "text": [
            "Epoch 1/10\n",
            "600/600 [==============================] - 4s 6ms/step - loss: 0.2942 - accuracy: 0.9182 - val_loss: 0.1478 - val_accuracy: 0.9539\n",
            "Epoch 2/10\n",
            "600/600 [==============================] - 3s 5ms/step - loss: 0.1162 - accuracy: 0.9656 - val_loss: 0.1038 - val_accuracy: 0.9675\n",
            "Epoch 3/10\n",
            "600/600 [==============================] - 3s 5ms/step - loss: 0.0777 - accuracy: 0.9764 - val_loss: 0.0834 - val_accuracy: 0.9739\n",
            "Epoch 4/10\n",
            "600/600 [==============================] - 3s 5ms/step - loss: 0.0582 - accuracy: 0.9821 - val_loss: 0.0836 - val_accuracy: 0.9734\n",
            "Epoch 5/10\n",
            "600/600 [==============================] - 3s 5ms/step - loss: 0.0459 - accuracy: 0.9858 - val_loss: 0.0719 - val_accuracy: 0.9778\n",
            "Epoch 6/10\n",
            "600/600 [==============================] - 3s 5ms/step - loss: 0.0350 - accuracy: 0.9891 - val_loss: 0.0769 - val_accuracy: 0.9766\n",
            "Epoch 7/10\n",
            "600/600 [==============================] - 3s 5ms/step - loss: 0.0286 - accuracy: 0.9909 - val_loss: 0.0734 - val_accuracy: 0.9778\n",
            "Epoch 8/10\n",
            "600/600 [==============================] - 3s 5ms/step - loss: 0.0233 - accuracy: 0.9926 - val_loss: 0.0799 - val_accuracy: 0.9774\n",
            "Epoch 9/10\n",
            "600/600 [==============================] - 3s 5ms/step - loss: 0.0207 - accuracy: 0.9933 - val_loss: 0.0905 - val_accuracy: 0.9744\n",
            "Epoch 10/10\n",
            "600/600 [==============================] - 3s 5ms/step - loss: 0.0174 - accuracy: 0.9944 - val_loss: 0.0866 - val_accuracy: 0.9778\n"
          ]
        }
      ],
      "source": [
        "from tensorflow.keras.callbacks import ModelCheckpoint\n",
        "\n",
        "\n",
        "\n",
        "tf.random.set_seed(0)\n",
        "\n",
        "model = Sequential([\n",
        "    InputLayer(input_shape=x_train.shape[1:]),\n",
        "    Dense(units=128, activation=\"relu\"),\n",
        "    Dense(units=128, activation=\"relu\"),\n",
        "    Dense(units=y_train.shape[1], activation=\"softmax\")\n",
        "])\n",
        "cb = ModelCheckpoint(\"model.hdf5\", save_best_only=True)\n",
        "model.compile(loss=\"categorical_crossentropy\", optimizer=\"adam\", metrics=[\"accuracy\"])\n",
        "h = model.fit(x_train, y_train, epochs=10, batch_size=100, verbose=1, validation_data=(x_test, y_test), callbacks=[cb])"
      ]
    },
    {
      "cell_type": "markdown",
      "metadata": {
        "cell_id": "00028-e61b8442-9511-4a89-a53c-9590238e0fd2",
        "deepnote_cell_type": "markdown",
        "tags": [],
        "id": "MMU6nL3s93v6"
      },
      "source": [
        "Use the code below to check that a model has been saved:"
      ]
    },
    {
      "cell_type": "code",
      "execution_count": 31,
      "metadata": {
        "cell_id": "00034-e0f2a0eb-f551-440e-94fb-2db94f18bde6",
        "deepnote_cell_type": "code",
        "deepnote_to_be_reexecuted": true,
        "id": "m0Zqsvh8Bowh",
        "source_hash": "3b41946",
        "colab": {
          "base_uri": "https://localhost:8080/"
        },
        "outputId": "6f46eaa3-5298-43ba-8c87-00431c75d525"
      },
      "outputs": [
        {
          "output_type": "stream",
          "name": "stdout",
          "text": [
            "-rw-r--r-- 1 root root 1.4M Nov  7 13:46 model.hdf5\n"
          ]
        }
      ],
      "source": [
        "!ls -alh \"model.hdf5\""
      ]
    },
    {
      "cell_type": "markdown",
      "metadata": {
        "cell_id": "00035-1206a01d-7467-4a3e-bbdc-ee72b70366a2",
        "deepnote_cell_type": "markdown",
        "id": "WFehub4rLrZm"
      },
      "source": [
        "## Regularization\n",
        "\n",
        "**Question #11.** Add an $\\ell_2$ regularization to the weights of your model and show its impact on overfitting. [These docs](https://www.tensorflow.org/api_docs/python/tf/keras/regularizers) could help."
      ]
    },
    {
      "cell_type": "code",
      "execution_count": 33,
      "metadata": {
        "cell_id": "00030-dcf2874b-1d98-4a94-9f5d-a048e99081d8",
        "deepnote_cell_type": "code",
        "deepnote_to_be_reexecuted": true,
        "source_hash": "b623e53d",
        "tags": [],
        "id": "cuJ3ZwSC93v8",
        "colab": {
          "base_uri": "https://localhost:8080/"
        },
        "outputId": "9b84a49a-359f-4392-b8d2-fae41678079d"
      },
      "outputs": [
        {
          "output_type": "stream",
          "name": "stdout",
          "text": [
            "Epoch 1/10\n",
            "480/480 - 4s - loss: 0.5847 - accuracy: 0.9015 - val_loss: 0.3803 - val_accuracy: 0.9492 - 4s/epoch - 7ms/step\n",
            "Epoch 2/10\n",
            "480/480 - 3s - loss: 0.3449 - accuracy: 0.9533 - val_loss: 0.3202 - val_accuracy: 0.9578 - 3s/epoch - 6ms/step\n",
            "Epoch 3/10\n",
            "480/480 - 2s - loss: 0.2868 - accuracy: 0.9641 - val_loss: 0.2756 - val_accuracy: 0.9657 - 2s/epoch - 5ms/step\n",
            "Epoch 4/10\n",
            "480/480 - 3s - loss: 0.2599 - accuracy: 0.9680 - val_loss: 0.2586 - val_accuracy: 0.9663 - 3s/epoch - 6ms/step\n",
            "Epoch 5/10\n",
            "480/480 - 3s - loss: 0.2442 - accuracy: 0.9703 - val_loss: 0.2530 - val_accuracy: 0.9666 - 3s/epoch - 6ms/step\n",
            "Epoch 6/10\n",
            "480/480 - 2s - loss: 0.2342 - accuracy: 0.9729 - val_loss: 0.2393 - val_accuracy: 0.9693 - 2s/epoch - 5ms/step\n",
            "Epoch 7/10\n",
            "480/480 - 2s - loss: 0.2280 - accuracy: 0.9740 - val_loss: 0.2379 - val_accuracy: 0.9697 - 2s/epoch - 5ms/step\n",
            "Epoch 8/10\n",
            "480/480 - 2s - loss: 0.2204 - accuracy: 0.9763 - val_loss: 0.2320 - val_accuracy: 0.9705 - 2s/epoch - 5ms/step\n",
            "Epoch 9/10\n",
            "480/480 - 2s - loss: 0.2201 - accuracy: 0.9754 - val_loss: 0.2352 - val_accuracy: 0.9688 - 2s/epoch - 5ms/step\n",
            "Epoch 10/10\n",
            "480/480 - 3s - loss: 0.2164 - accuracy: 0.9773 - val_loss: 0.2279 - val_accuracy: 0.9713 - 3s/epoch - 6ms/step\n"
          ]
        }
      ],
      "source": [
        "\n",
        "from tensorflow.keras.regularizers import l2\n",
        "\n",
        "tf.random.set_seed(0)\n",
        "\n",
        "model = Sequential([\n",
        "    InputLayer(input_shape=x_train.shape[1:]),\n",
        "    Dense(units=128, activation=\"relu\", kernel_regularizer=l2(.001)),\n",
        "    Dense(units=128, activation=\"relu\", kernel_regularizer=l2(.001)),\n",
        "    Dense(units=y_train.shape[1], activation=\"softmax\", kernel_regularizer=l2(.001))\n",
        "])\n",
        "model.compile(loss=\"categorical_crossentropy\", optimizer=\"adam\", metrics=[\"accuracy\"])\n",
        "h = model.fit(x_train, y_train, epochs=10, batch_size=100, verbose=2, validation_split=.2)"
      ]
    },
    {
      "cell_type": "markdown",
      "metadata": {
        "cell_id": "00037-eeefff63-cd4e-4d79-b3ed-4f6bfb2ce154",
        "deepnote_cell_type": "markdown",
        "id": "vumLi62gNVhk"
      },
      "source": [
        "**Question #12.** Instead of the $\\ell_2$ regularization, set up a [drop-out](https://www.tensorflow.org/api_docs/python/tf/keras/layers/Dropout) strategy and assess its impact on overfitting (you will turn off 10% of the neurons at each training batch)."
      ]
    },
    {
      "cell_type": "code",
      "execution_count": 35,
      "metadata": {
        "cell_id": "00031-76277bb0-9d1e-44c8-a795-8144cb710525",
        "deepnote_cell_type": "code",
        "deepnote_to_be_reexecuted": true,
        "source_hash": "b623e53d",
        "tags": [],
        "id": "YgKNJ0lC93v8",
        "colab": {
          "base_uri": "https://localhost:8080/"
        },
        "outputId": "d416c850-6ad9-4152-9b59-cdb5e15bc7f6"
      },
      "outputs": [
        {
          "output_type": "stream",
          "name": "stdout",
          "text": [
            "Epoch 1/10\n",
            "480/480 - 3s - loss: 0.4031 - accuracy: 0.8811 - val_loss: 0.1542 - val_accuracy: 0.9552 - 3s/epoch - 7ms/step\n",
            "Epoch 2/10\n",
            "480/480 - 3s - loss: 0.1705 - accuracy: 0.9487 - val_loss: 0.1192 - val_accuracy: 0.9640 - 3s/epoch - 6ms/step\n",
            "Epoch 3/10\n",
            "480/480 - 3s - loss: 0.1284 - accuracy: 0.9598 - val_loss: 0.1021 - val_accuracy: 0.9682 - 3s/epoch - 6ms/step\n",
            "Epoch 4/10\n",
            "480/480 - 3s - loss: 0.1056 - accuracy: 0.9677 - val_loss: 0.0903 - val_accuracy: 0.9717 - 3s/epoch - 6ms/step\n",
            "Epoch 5/10\n",
            "480/480 - 3s - loss: 0.0905 - accuracy: 0.9709 - val_loss: 0.0887 - val_accuracy: 0.9721 - 3s/epoch - 6ms/step\n",
            "Epoch 6/10\n",
            "480/480 - 3s - loss: 0.0765 - accuracy: 0.9752 - val_loss: 0.0825 - val_accuracy: 0.9738 - 3s/epoch - 6ms/step\n",
            "Epoch 7/10\n",
            "480/480 - 3s - loss: 0.0712 - accuracy: 0.9777 - val_loss: 0.0807 - val_accuracy: 0.9762 - 3s/epoch - 6ms/step\n",
            "Epoch 8/10\n",
            "480/480 - 3s - loss: 0.0635 - accuracy: 0.9792 - val_loss: 0.0781 - val_accuracy: 0.9762 - 3s/epoch - 6ms/step\n",
            "Epoch 9/10\n",
            "480/480 - 3s - loss: 0.0568 - accuracy: 0.9820 - val_loss: 0.0812 - val_accuracy: 0.9762 - 3s/epoch - 6ms/step\n",
            "Epoch 10/10\n",
            "480/480 - 3s - loss: 0.0512 - accuracy: 0.9829 - val_loss: 0.0728 - val_accuracy: 0.9806 - 3s/epoch - 6ms/step\n"
          ]
        }
      ],
      "source": [
        "from tensorflow.keras.layers import Dropout\n",
        "\n",
        "tf.random.set_seed(0)\n",
        "\n",
        "model = Sequential([\n",
        "    InputLayer(input_shape=x_train.shape[1:]),\n",
        "    Dropout(rate=0.1),\n",
        "    Dense(units=128, activation=\"relu\"),\n",
        "    Dropout(rate=0.1),\n",
        "    Dense(units=128, activation=\"relu\"),\n",
        "    Dropout(rate=0.1),\n",
        "    Dense(units=y_train.shape[1], activation=\"softmax\")\n",
        "])\n",
        "model.compile(loss=\"categorical_crossentropy\", optimizer=\"adam\", metrics=[\"accuracy\"])\n",
        "h = model.fit(x_train, y_train, epochs=10, batch_size=100, verbose=2, validation_split=.2)"
      ]
    },
    {
      "cell_type": "markdown",
      "metadata": {
        "cell_id": "00041-10a0c691-e01a-451e-807b-594ba76cc1fa",
        "deepnote_cell_type": "markdown",
        "id": "xbOmJKruNYyS"
      },
      "source": [
        "**Question #13.** Set up an [`EarlyStopping`](https://www.tensorflow.org/api_docs/python/tf/keras/callbacks/EarlyStopping) strategy such that training the model will stop in case the validation loss does not decrease for 5 consecutive epochs."
      ]
    },
    {
      "cell_type": "code",
      "execution_count": 32,
      "metadata": {
        "cell_id": "00033-d7da52c7-7fbf-4f7d-940d-821cbe255b64",
        "deepnote_cell_type": "code",
        "deepnote_to_be_reexecuted": true,
        "source_hash": "b623e53d",
        "tags": [],
        "id": "qymmrWC993v8",
        "colab": {
          "base_uri": "https://localhost:8080/"
        },
        "outputId": "4ddd648d-ffcf-4fb5-817a-2c5ebcee0ad3"
      },
      "outputs": [
        {
          "output_type": "stream",
          "name": "stdout",
          "text": [
            "Epoch 1/100\n",
            "600/600 - 4s - loss: 0.2942 - accuracy: 0.9182 - val_loss: 0.1478 - val_accuracy: 0.9539 - 4s/epoch - 6ms/step\n",
            "Epoch 2/100\n",
            "600/600 - 3s - loss: 0.1162 - accuracy: 0.9656 - val_loss: 0.1038 - val_accuracy: 0.9675 - 3s/epoch - 5ms/step\n",
            "Epoch 3/100\n",
            "600/600 - 3s - loss: 0.0777 - accuracy: 0.9764 - val_loss: 0.0834 - val_accuracy: 0.9739 - 3s/epoch - 4ms/step\n",
            "Epoch 4/100\n",
            "600/600 - 3s - loss: 0.0582 - accuracy: 0.9821 - val_loss: 0.0836 - val_accuracy: 0.9734 - 3s/epoch - 5ms/step\n",
            "Epoch 5/100\n",
            "600/600 - 3s - loss: 0.0459 - accuracy: 0.9858 - val_loss: 0.0719 - val_accuracy: 0.9778 - 3s/epoch - 5ms/step\n",
            "Epoch 6/100\n",
            "600/600 - 4s - loss: 0.0350 - accuracy: 0.9891 - val_loss: 0.0769 - val_accuracy: 0.9766 - 4s/epoch - 6ms/step\n",
            "Epoch 7/100\n",
            "600/600 - 3s - loss: 0.0286 - accuracy: 0.9909 - val_loss: 0.0734 - val_accuracy: 0.9778 - 3s/epoch - 4ms/step\n",
            "Epoch 8/100\n",
            "600/600 - 3s - loss: 0.0233 - accuracy: 0.9926 - val_loss: 0.0799 - val_accuracy: 0.9774 - 3s/epoch - 4ms/step\n"
          ]
        }
      ],
      "source": [
        "from tensorflow.keras.callbacks import EarlyStopping\n",
        "\n",
        "cb = EarlyStopping(monitor=\"val_loss\", patience=3, restore_best_weights=True)\n",
        "\n",
        "tf.random.set_seed(0)\n",
        "\n",
        "model = Sequential([\n",
        "    InputLayer(input_shape=x_train.shape[1:]),\n",
        "    Dense(units=128, activation=\"relu\"),\n",
        "    Dense(units=128, activation=\"relu\"),\n",
        "    Dense(units=y_train.shape[1], activation=\"softmax\")\n",
        "])\n",
        "model.compile(loss=\"categorical_crossentropy\", optimizer=\"adam\", metrics=[\"accuracy\"])\n",
        "h = model.fit(x_train, y_train, epochs=100, batch_size=100, verbose=2, validation_data=(x_test, y_test), callbacks=[cb])"
      ]
    }
  ],
  "metadata": {
    "colab": {
      "collapsed_sections": [],
      "name": "MLP.ipynb",
      "provenance": []
    },
    "deepnote": {},
    "deepnote_execution_queue": [],
    "deepnote_notebook_id": "35aa3537-3e05-40fa-86f0-1f7ded16df52",
    "kernelspec": {
      "display_name": "Python 3",
      "name": "python3"
    },
    "language_info": {
      "name": "python",
      "version": "3.8.9"
    }
  },
  "nbformat": 4,
  "nbformat_minor": 0
}